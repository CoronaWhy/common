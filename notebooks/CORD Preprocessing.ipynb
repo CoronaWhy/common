{
 "cells": [
  {
   "cell_type": "markdown",
   "metadata": {},
   "source": [
    "# Basic Description\n",
    "\n",
    "Current implementation only searches JSON files recursively in the folder, convert these to a dataframe, and processes the texts in paralell. Processing details below.\n",
    "\n",
    "* Text is first labeled by language. If english:\n",
    "\n",
    "* Text acronyms are expanded. i.e. ADD --> Attention Deficit Disorder. This is done using the acronym expansion module in scispaCy (see their homepage for documentation).\n",
    "\n",
    "* Concepts (general NER) in the text are linked to the Unified Medical Language System (UMLS) and canonicalized. The first alias for the entity is appended to the UMLS column.\n",
    "\n",
    "* Text is non-destructively lemmatized. No stop words, no deletions of punctuation. For TF-IDF or other algorithms that depend on tokenization, you'll need to run a filter over this column for dimensionality reducation and cleaner text. This mean Sars-Covid-19 stays Sars-Covid-19 as a single token. If you need to match drug names, you can do full-text search on the \"sentence\" column, or attempt to match to tokens in UMLS, or match NER results in DRUG column.\n",
    "\n",
    "* A second pass on NER is run using four NER-specific models from scispaCy. \"en_ner_craft_md\", \"en_ner_jnlpba_md\",\"en_ner_bc5cdr_md\",\"en_ner_bionlp13cg_md\". For more information, please see their homepage.\n",
    "\n",
    "\n",
    "## A note on the Extraction class, and section labels\n",
    "\n",
    "* The extraction class needs to be edited to read the metadata file and choose files accordingly. Right now, this is at the top of our priority list for tasks in #datasets, and if you can help with this please PM Brandon Eychaner. \n",
    "\n",
    "* Section labels are _messy_. There are more than 250,000 unique section labels in the JSONs alone. I listed the top 1000 section labels by count and took the obvious ones, and mapped them in the \"filter_dict\" variable to account for the majority of important sections. This is an area of ongoing work. \n"
   ]
  },
  {
   "cell_type": "code",
   "execution_count": 2,
   "metadata": {},
   "outputs": [],
   "source": [
    "#!pip install googletrans\n",
    "#!pip install -U scikit-learn\n",
    "\n",
    "from googletrans import Translator\n",
    "import pandas as pd \n",
    "import os\n",
    "import numpy as np\n",
    "import scispacy\n",
    "import json\n",
    "import spacy\n",
    "from tqdm.notebook import tqdm\n",
    "from scipy.spatial import distance\n",
    "import ipywidgets as widgets\n",
    "from scispacy.abbreviation import AbbreviationDetector\n",
    "from spacy_langdetect import LanguageDetector\n",
    "# UMLS linking will find concepts in the text, and link them to UMLS. \n",
    "from scispacy.umls_linking import UmlsEntityLinker\n",
    "import time\n",
    "from spacy.vocab import Vocab\n",
    "from multiprocessing import Process, Queue, Manager\n",
    "from multiprocessing.pool import Pool\n",
    "from functools import partial\n",
    "import re\n",
    "import ast"
   ]
  },
  {
   "cell_type": "code",
   "execution_count": 22,
   "metadata": {},
   "outputs": [],
   "source": [
    "def translate(text):\n",
    "    translator=Translator(dest='en')\n",
    "    translation=translator.translate(str(text)).text\n",
    "    return translation\n",
    "\n",
    "# Returns a dictionary object that's easy to parse in pandas. For tables! :D\n",
    "def extract_tables_from_json(js):\n",
    "    json_list = []\n",
    "    # Figures contain useful information. Since NLP doesn't handle images and tables,\n",
    "    # we can leverage this text data in lieu of visual data.\n",
    "    for figure in list(js[\"ref_entries\"].keys()):\n",
    "        json_dict = [\"figref\", figure, js[\"ref_entries\"][figure][\"text\"]]\n",
    "        json_dict.append(json_dict)\n",
    "    return json_list\n",
    "\n",
    "def init_filter_dict(): \n",
    "    inverse = dict() \n",
    "    d = {\n",
    "        \"discussion\": [\"conclusions\",\"conclusion\",'| discussion', \"discussion\",  'concluding remarks',\n",
    "                       'discussion and conclusions','conclusion:', 'discussion and conclusion',\n",
    "                       'conclusions:', 'outcomes', 'conclusions and perspectives', \n",
    "                       'conclusions and future perspectives', 'conclusions and future directions'],\n",
    "        \"results\": ['executive summary', 'result', 'summary','results','results and discussion','results:',\n",
    "                    'comment',\"findings\"],\n",
    "        \"introduction\": ['introduction', 'background', 'i. introduction','supporting information','| introduction'],\n",
    "        \"methods\": ['methods','method','statistical methods','materials','materials and methods',\n",
    "                    'data collection','the study','study design','experimental design','objective',\n",
    "                    'objectives','procedures','data collection and analysis', 'methodology',\n",
    "                    'material and methods','the model','experimental procedures','main text',],\n",
    "        \"statistics\": ['data analysis','statistical analysis', 'analysis','statistical analyses', \n",
    "                       'statistics','data','measures'],\n",
    "        \"clinical\": ['diagnosis', 'diagnostic features', \"differential diagnoses\", 'classical signs','prognosis', 'clinical signs', 'pathogenesis',\n",
    "                     'etiology','differential diagnosis','clinical features', 'case report', 'clinical findings',\n",
    "                     'clinical presentation'],\n",
    "        'treatment': ['treatment', 'interventions'],\n",
    "        \"prevention\": ['epidemiology','risk factors'],\n",
    "        \"subjects\": ['demographics','samples','subjects', 'study population','control','patients', \n",
    "                   'participants','patient characteristics'],\n",
    "        \"animals\": ['animals','animal models'],\n",
    "        \"abstract\": [\"abstract\", 'a b s t r a c t','author summary'], \n",
    "        \"review\": ['review','literature review','keywords']}\n",
    "    \n",
    "    for key in d: \n",
    "        # Go through the list that is saved in the dict:\n",
    "        for item in d[key]:\n",
    "            # Check if in the inverted dict the key exists\n",
    "            if item not in inverse: \n",
    "                # If not create a new list\n",
    "                inverse[item] = [key] \n",
    "            else: \n",
    "                inverse[item].append(key) \n",
    "    return inverse\n",
    "\n",
    "inverted_dict = init_filter_dict()\n",
    "    \n",
    "def get_section_name(text):\n",
    "    if len(text) == 0:\n",
    "        return(text)\n",
    "    text = text.lower()\n",
    "    if text in inverted_dict.keys():\n",
    "        return(inverted_dict[text][0])\n",
    "    else:\n",
    "        if \"case\" in text or \"study\" in text: \n",
    "            return(\"methods\")\n",
    "        elif \"clinic\" in text:\n",
    "            return(\"clinical\")\n",
    "        elif \"stat\" in text:\n",
    "            return(\"statistics\")\n",
    "        elif \"intro\" in text or \"backg\" in text:\n",
    "            return(\"introduction\")\n",
    "        elif \"data\" in text:\n",
    "            return(\"statistics\")\n",
    "        elif \"discuss\" in text:\n",
    "            return(\"discussion\")\n",
    "        elif \"patient\" in text:\n",
    "            return(\"subjects\")\n",
    "        else: \n",
    "            return(text)\n",
    "\n",
    "def init_nlp():\n",
    "    nlp = spacy.load(\"/home/acorn/Downloads/en_core_sci_lg-0.2.4/en_core_sci_lg/en_core_sci_lg-0.2.4/\", disable=[\"tagger\"])\n",
    "    nlp.max_length=2000000\n",
    "\n",
    "    # We also need to detect language, or else we'll be parsing non-english text \n",
    "    # as if it were English. \n",
    "    nlp.add_pipe(LanguageDetector(), name='language_detector', last=True)\n",
    "\n",
    "    # Add the abbreviation pipe to the spacy pipeline. Only need to run this once.\n",
    "    abbreviation_pipe = AbbreviationDetector(nlp)\n",
    "    nlp.add_pipe(abbreviation_pipe)\n",
    "\n",
    "    # Our linker will look up named entities/concepts in the UMLS graph and normalize\n",
    "    # the data for us. \n",
    "    linker = UmlsEntityLinker(resolve_abbreviations=True)\n",
    "    nlp.add_pipe(linker)\n",
    "    \n",
    "    new_vector = nlp(\n",
    "               \"\"\"Positive-sense single‐stranded ribonucleic acid virus, subgenus \n",
    "                   sarbecovirus of the genus Betacoronavirus. \n",
    "                   Also known as severe acute respiratory syndrome coronavirus 2, \n",
    "                   also known by 2019 novel coronavirus. It is \n",
    "                   contagious in humans and is the cause of the ongoing pandemic of \n",
    "                   coronavirus disease. Coronavirus disease 2019 is a zoonotic infectious \n",
    "                   disease.\"\"\").vector\n",
    "\n",
    "    vector_data = {\"COVID-19\": new_vector,\n",
    "               \"2019-nCoV\": new_vector,\n",
    "               \"SARS-CoV-2\": new_vector}\n",
    "\n",
    "    vocab = Vocab()\n",
    "    for word, vector in vector_data.items():\n",
    "        nlp.vocab.set_vector(word, vector)\n",
    "    \n",
    "    return(nlp, linker)\n",
    "def init_ner():\n",
    "    models = [\"en_ner_craft_md\", \"en_ner_jnlpba_md\",\"en_ner_bc5cdr_md\",\"en_ner_bionlp13cg_md\"]\n",
    "    nlps = [spacy.load(model) for model in models]\n",
    "    return(nlps)\n",
    "\n",
    "def process_metadata(directory):\n",
    "    rows = []\n",
    "    if directory[-1] != \"/\": \n",
    "        directory = directory + \"/\"\n",
    "        \n",
    "    df1 = pd.read_csv(directory + \"metadata_old.csv\")\n",
    "    df2 = pd.read_csv(directory + \"metadata.csv\")\n",
    "    df = df2[~df2[\"cord_uid\"].isin(df1[\"cord_uid\"])] \n",
    "    df.reset_index(drop=True, inplace=True)\n",
    "    del df1\n",
    "    del df2\n",
    "    \n",
    "    df.fillna(\"~\", inplace=True)\n",
    "    for i in df[df[\"has_pmc_xml_parse\"] == 1].index:\n",
    "        section = (str(df.iloc[i].full_text_file) + \"/\") * 2\n",
    "        pmcid = df.iloc[i].pmcid\n",
    "        filename = directory + section + \"pmc_json/\" + pmcid + \".xml.json\"\n",
    "        try: \n",
    "            with open(filename) as paperjs:\n",
    "                jsfile = json.load(paperjs)\n",
    "        except:\n",
    "            print(\"Problem with\", df.iloc[i].cord_uid)\n",
    "            continue\n",
    "\n",
    "        _id = df.iloc[i][\"cord_uid\"]\n",
    "        if \"title\" in jsfile.keys():\n",
    "            rows.append(dict(cord_uid=_id, section=\"title\", subsection=0, text=jsfile[\"title\"]))\n",
    "        else:\n",
    "            rows.append(dict(cord_uid=_id, section=\"title\", subsection=0, text=df.iloc[i].title))\n",
    "        if \"abstract\" in jsfile.keys():\n",
    "            if len(jsfile[\"abstract\"]) > 1:\n",
    "                for j in range(len(jsfile[\"abstract\"])):\n",
    "                    rows.append(dict(cord_uid=_id, section=\"abstract\", subsection=0, text=jsfile[\"abstract\"][j][\"text\"]))\n",
    "            else:\n",
    "                rows.append(dict(cord_uid=_id, section=\"abstract\", subsection=0, text=jsfile[\"abstract\"]))\n",
    "        elif \"abstract\" in jsfile[\"metadata\"].keys():\n",
    "            rows.append(dict(cord_uid=_id, section=\"abstract\", subsection=0, text=jsfile[\"metadata\"][\"abstract\"]))\n",
    "        else: \n",
    "            rows.append(dict(cord_uid=_id, section=\"abstract\", subsection=0, text=df.iloc[i].abstract))\n",
    "\n",
    "        sections = list(set([k[\"section\"] for k in jsfile[\"body_text\"]]))\n",
    "\n",
    "        for section in sections: \n",
    "            for l in range(len(jsfile[\"body_text\"])):\n",
    "                if jsfile[\"body_text\"][l][\"section\"] == section:\n",
    "                    if section == '':\n",
    "                        section = \"body_text\"\n",
    "                    rows.append(dict(cord_uid=_id, section=section, \n",
    "                                     subsection=l, text=jsfile[\"body_text\"][l][\"text\"]))\n",
    "\n",
    "        tables = extract_tables_from_json(jsfile)\n",
    "        for table in tables:\n",
    "            rows.append(dict(cord_uid=_id, section=table[0], subsection=table[1], text=table[2]))\n",
    "\n",
    "\n",
    "    for i in df[(df[\"has_pmc_xml_parse\"] == 0) & (df[\"has_pdf_parse\"] == 1)].index:\n",
    "        section = (str(df.iloc[i].full_text_file) + \"/\") * 2\n",
    "        sha = df.iloc[i].sha\n",
    "        if len(sha.split(\"; \")) > 1:\n",
    "            sha = sha.split(\"; \")[0]\n",
    "        filename = directory + section + \"pdf_json/\" + sha + \".json\"\n",
    "        try:\n",
    "            with open(filename) as paperjs:\n",
    "                jsfile = json.load(paperjs)\n",
    "        except:\n",
    "            print(\"Problem with\", df.iloc[i].cord_uid)\n",
    "\n",
    "        _id = df.iloc[i][\"cord_uid\"]\n",
    "        if \"title\" in jsfile.keys():\n",
    "            rows.append(dict(cord_uid=_id, section=\"title\", subsection=0, text=jsfile[\"title\"]))\n",
    "        else:\n",
    "            rows.append(dict(cord_uid=_id, section=\"title\", subsection=0, text=df.iloc[i].title))\n",
    "        if \"abstract\" in jsfile.keys():\n",
    "            if len(jsfile[\"abstract\"]) > 1:\n",
    "                for j in range(len(jsfile[\"abstract\"])):\n",
    "                    rows.append(dict(cord_uid=_id, section=\"abstract\", subsection=0, text=jsfile[\"abstract\"][j][\"text\"]))\n",
    "            else:\n",
    "                rows.append(dict(cord_uid=_id, section=\"abstract\", subsection=0, text=jsfile[\"abstract\"]))\n",
    "        elif \"abstract\" in jsfile[\"metadata\"].keys():\n",
    "            rows.append(dict(cord_uid=_id, section=\"abstract\", subsection=0, text=jsfile[\"metadata\"][\"abstract\"]))\n",
    "        else: \n",
    "            rows.append(dict(cord_uid=_id, section=\"abstract\", subsection=0, text=df.iloc[i].abstract))\n",
    "\n",
    "        sections = list(set([k[\"section\"] for k in jsfile[\"body_text\"]]))\n",
    "\n",
    "        for section in sections: \n",
    "            for l in range(len(jsfile[\"body_text\"])):\n",
    "                if jsfile[\"body_text\"][l][\"section\"] == section:\n",
    "                    if section == '':\n",
    "                        section = \"body_text\"\n",
    "                    rows.append(dict(cord_uid=_id, section=section, \n",
    "                                     subsection=l, text=jsfile[\"body_text\"][l][\"text\"]))\n",
    "\n",
    "        tables = extract_tables_from_json(jsfile)\n",
    "        for table in tables:\n",
    "            rows.append(dict(cord_uid=_id, section=table[0], subsection=table[1], text=table[2]))\n",
    "\n",
    "    for i in df[(df[\"has_pmc_xml_parse\"] == 0) & (df[\"has_pdf_parse\"] == 0)].index:\n",
    "        section = (str(df.iloc[i].full_text_file) + \"/\") * 2\n",
    "        sha = df.iloc[i].sha\n",
    "\n",
    "        if len(sha.split(\"; \")) > 1:\n",
    "            sha = sha.split(\"; \")[0]\n",
    "        filename = directory + section + \"pdf_json/\" + sha + \".json\"\n",
    "\n",
    "        if len(sha) < 2: \n",
    "            bad_sha = True\n",
    "            try:\n",
    "                with open(directory + section + \"pmc_json/\" + df.iloc[i][\"pmcid\"] + \".xml.json\") as paperjs:\n",
    "                    jsfile = json.load(paperjs)\n",
    "            except:\n",
    "                pass\n",
    "        if bad_sha == True:\n",
    "            bad_sha = False\n",
    "            continue\n",
    "\n",
    "        try:\n",
    "            with open(filename) as paperjs:\n",
    "                jsfile = json.load(paperjs)\n",
    "        except:\n",
    "            print(\"Problem with \", df.iloc[i].cord_uid)\n",
    "            continue\n",
    "\n",
    "        _id = df.iloc[i][\"cord_uid\"]\n",
    "        if \"title\" in jsfile.keys():\n",
    "            rows.append(dict(cord_uid=_id, section=\"title\", subsection=0, text=jsfile[\"title\"]))\n",
    "        else:\n",
    "            rows.append(dict(cord_uid=_id, section=\"title\", subsection=0, text=df.iloc[i].title))\n",
    "        if \"abstract\" in jsfile.keys():\n",
    "            if len(jsfile[\"abstract\"]) > 1:\n",
    "                for j in range(len(jsfile[\"abstract\"])):\n",
    "                    rows.append(dict(cord_uid=_id, section=\"abstract\", subsection=0, text=jsfile[\"abstract\"][j][\"text\"]))\n",
    "            else:\n",
    "                rows.append(dict(cord_uid=_id, section=\"abstract\", subsection=0, text=jsfile[\"abstract\"]))\n",
    "        elif \"abstract\" in jsfile[\"metadata\"].keys():\n",
    "            rows.append(dict(cord_uid=_id, section=\"abstract\", subsection=0, text=jsfile[\"metadata\"][\"abstract\"]))\n",
    "        else: \n",
    "            rows.append(dict(cord_uid=_id, section=\"abstract\", subsection=0, text=df.iloc[i].abstract))\n",
    "\n",
    "        sections = list(set([k[\"section\"] for k in jsfile[\"body_text\"]]))\n",
    "\n",
    "        for section in sections: \n",
    "            for l in range(len(jsfile[\"body_text\"])):\n",
    "                if jsfile[\"body_text\"][l][\"section\"] == section:\n",
    "                    if section == '':\n",
    "                        section = \"body_text\"\n",
    "                    rows.append(dict(cord_uid=_id, section=section, \n",
    "                                     subsection=l, text=jsfile[\"body_text\"][l][\"text\"]))\n",
    "\n",
    "        tables = extract_tables_from_json(jsfile)\n",
    "        for table in tables:\n",
    "            rows.append(dict(cord_uid=_id, section=table[0], subsection=table[1], text=table[2]))\n",
    "            \n",
    "    processed_ids = [d[\"cord_uid\"] for d in rows]\n",
    "    \n",
    "    for i in df[~df[\"cord_uid\"].isin(processed_ids)].index:\n",
    "        rows.append(dict(cord_uid=df.iloc[i][\"cord_uid\"], section=\"title\", subsection=0, text=df.iloc[i][\"title\"]))\n",
    "        rows.append(dict(cord_uid=df.iloc[i][\"cord_uid\"], section=\"abstract\", subsection=0, text=df.iloc[i][\"abstract\"]))\n",
    "\n",
    "    return(pd.DataFrame(rows))\n",
    "\n",
    "def parallelize_dataframe(df, func, n_cores=6, n_parts=400):\n",
    "    df_split = np.array_split(df, n_parts)\n",
    "    pool = Pool(n_cores)\n",
    "    list(tqdm(pool.imap_unordered(func, df_split), total=len(df_split)))\n",
    "    pool.close()\n",
    "    pool.join()\n",
    "                    \n",
    "def init_list_cols():\n",
    "    return ['GGP', 'SO', 'TAXON', 'CHEBI', 'GO', 'CL', 'DNA', 'CELL_TYPE', 'CELL_LINE', 'RNA', 'PROTEIN', \n",
    "                          'DISEASE', 'CHEMICAL', 'CANCER', 'ORGAN', 'TISSUE', 'ORGANISM', 'CELL', 'AMINO_ACID',\n",
    "                          'GENE_OR_GENE_PRODUCT', 'SIMPLE_CHEMICAL', 'ANATOMICAL_SYSTEM', 'IMMATERIAL_ANATOMICAL_ENTITY',\n",
    "                          'MULTI-TISSUE_STRUCTURE', 'DEVELOPING_ANATOMICAL_STRUCTURE', 'ORGANISM_SUBDIVISION',\n",
    "                          'CELLULAR_COMPONENT', 'PATHOLOGICAL_FORMATION', \"lemma\", \"UMLS\",\"UMLS_ID\"]\n",
    "        \n",
    "def pipeline(df):\n",
    "    \n",
    "    name = df.iloc[0][\"cord_uid\"] + str(df.iloc[0][\"subsection\"])+ \"0\" + \".pickle\"\n",
    "                    \n",
    "    if not os.path.exists(\"df_parts/\"):\n",
    "        os.mkdir(\"df_parts/\")\n",
    "        \n",
    "    if name in os.listdir(\"df_parts/\"):\n",
    "        return True\n",
    "    languages = []\n",
    "    start_chars = []\n",
    "    end_chars = []\n",
    "    entities = []\n",
    "    sentences = []\n",
    "    lemmas = []\n",
    "    vectors = []\n",
    "    subsections = []\n",
    "    _ids = []\n",
    "    columns = []\n",
    "    nlp, linker = init_nlp()\n",
    "    nlps = init_ner()\n",
    "    translated = []\n",
    "    umls_ids = []\n",
    "\n",
    "    scispacy_ent_types = ['GGP', 'SO', 'TAXON', 'CHEBI', 'GO', 'CL', 'DNA', 'CELL_TYPE', 'CELL_LINE', 'RNA', 'PROTEIN', \n",
    "                          'DISEASE', 'CHEMICAL', 'CANCER', 'ORGAN', 'TISSUE', 'ORGANISM', 'CELL', 'AMINO_ACID',\n",
    "                          'GENE_OR_GENE_PRODUCT', 'SIMPLE_CHEMICAL', 'ANATOMICAL_SYSTEM', 'IMMATERIAL_ANATOMICAL_ENTITY',\n",
    "                          'MULTI-TISSUE_STRUCTURE', 'DEVELOPING_ANATOMICAL_STRUCTURE', 'ORGANISM_SUBDIVISION',\n",
    "                          'CELLULAR_COMPONENT', 'PATHOLOGICAL_FORMATION']\n",
    "    \n",
    "    for i in tqdm(range(len(df))):\n",
    "        doc = nlp(str(df.iloc[i][\"text\"]))\n",
    "        sents = [sent for sent in doc.sents]\n",
    "\n",
    "        if len(doc._.abbreviations) > 0 and doc._.language[\"language\"] == \"en\":\n",
    "            doc._.abbreviations.sort()\n",
    "            join_list = []\n",
    "            start = 0\n",
    "            for abbrev in doc._.abbreviations:\n",
    "                join_list.append(str(doc.text[start:abbrev.start_char]))\n",
    "                if len(abbrev._.long_form) > 5: #Increase length so \"a\" and \"an\" don't get un-abbreviated\n",
    "                    join_list.append(str(abbrev._.long_form))\n",
    "                else:\n",
    "                    join_list.append(str(doc.text[abbrev.start_char:abbrev.end_char]))\n",
    "                start = abbrev.end_char\n",
    "            # Reassign fixed body text to article in df.\n",
    "            new_text = \"\".join(join_list)\n",
    "            # We have new text. Re-nlp the doc for futher processing!\n",
    "            doc = nlp(new_text)\n",
    "\n",
    "        if doc._.language[\"language\"] == \"en\" and len(doc.text) > 5:\n",
    "            sents = [sent for sent in doc.sents if len(sent) > 5]\n",
    "            for sent in sents:\n",
    "                languages.append(doc._.language[\"language\"])\n",
    "                sentences.append(sent.text)\n",
    "                vectors.append(sent.vector)\n",
    "                translated.append(False)\n",
    "                subsections.append(df.iloc[i][\"subsection\"])\n",
    "                lemmas.append([token.lemma_.lower() for token in sent if not token.is_stop and re.search('[a-zA-Z]', str(token))])\n",
    "                doc_ents = []\n",
    "                for ent in sent.ents: \n",
    "                    if len(ent._.umls_ents) > 0:\n",
    "                        poss = linker.umls.cui_to_entity[ent._.umls_ents[0][0]].canonical_name\n",
    "                        doc_ents.append(poss)\n",
    "                entities.append(doc_ents)\n",
    "                umls_ids.append([entity._.umls_ents[0][0] for entity in sent.ents if len(entity._.umls_ents) > 0])\n",
    "                _ids.append(df.iloc[i][\"cord_uid\"])\n",
    "                columns.append(df.iloc[i][\"section\"])\n",
    "        else:  \n",
    "            try: \n",
    "                text = translate(df.iloc[i][\"text\"])\n",
    "                doc = nlp(str(df.iloc[i][\"text\"]))\n",
    "                sents = [sent for sent in doc.sents]\n",
    "\n",
    "                if len(doc._.abbreviations) > 0:\n",
    "                    doc._.abbreviations.sort()\n",
    "                    join_list = []\n",
    "                    start = 0\n",
    "                    for abbrev in doc._.abbreviations:\n",
    "                        join_list.append(str(doc.text[start:abbrev.start_char]))\n",
    "                        if len(abbrev._.long_form) > 5: #Increase length so \"a\" and \"an\" don't get un-abbreviated\n",
    "                            join_list.append(str(abbrev._.long_form))\n",
    "                        else:\n",
    "                            join_list.append(str(doc.text[abbrev.start_char:abbrev.end_char]))\n",
    "                        start = abbrev.end_char\n",
    "                    # Reassign fixed body text to article in df.\n",
    "                    new_text = \"\".join(join_list)\n",
    "                    # We have new text. Re-nlp the doc for futher processing!\n",
    "                    doc = nlp(new_text)\n",
    "\n",
    "                if len(doc.text) > 5:\n",
    "                    sents = [sent for sent in doc.sents if len(sent) > 5]\n",
    "                    for sent in sents:\n",
    "                        languages.append(doc._.language[\"language\"])\n",
    "                        sentences.append(sent.text)\n",
    "                        vectors.append(sent.vector)\n",
    "                        translated.append(True)\n",
    "                        subsections.append(df.iloc[i][\"subsection\"])\n",
    "                        lemmas.append([token.lemma_ for token in doc if not token.is_stop and re.search('[a-zA-Z]', str(token))])\n",
    "                        doc_ents = []\n",
    "                        for ent in sent.ents: \n",
    "                            if len(ent._.umls_ents) > 0:\n",
    "                                poss = linker.umls.cui_to_entity[ent._.umls_ents[0][0]].canonical_name\n",
    "                                doc_ents.append(poss)\n",
    "                        umls_ids.append([entity._.umls_ents[0][0] for entity in sent.ents if len(entity._.umls_ents) > 0])\n",
    "                        entities.append(doc_ents)\n",
    "                        _ids.append(df.iloc[i][\"cord_uid\"])\n",
    "                        columns.append(df.iloc[i][\"section\"])\n",
    "                        \n",
    "            except:\n",
    "                entities.append(\"[]\")\n",
    "                translated.append(False)\n",
    "                subsections.append(df.iloc[i][\"subsection\"])\n",
    "                sentences.append(doc.text)\n",
    "                vectors.append(np.zeros(200))\n",
    "                lemmas.append(\"[]\")\n",
    "                _ids.append(df.iloc[i,0])\n",
    "                umls_ids.append(\"[]\")\n",
    "                languages.append(doc._.language[\"language\"])\n",
    "                columns.append(df.iloc[i][\"section\"])\n",
    "    \n",
    "    li1 = _ids\n",
    "    li2 = subsections\n",
    "    li3 = [i for i in range(len(entities))]\n",
    "    \n",
    "    sentence_id = [str(x) + str(y) + str(z)  for x,y,z in zip(li1,li2,li3)]\n",
    "\n",
    "    new_df = pd.DataFrame(data={\"cord_uid\": _ids, \"language\": languages, \"sentence_id\": sentence_id,\n",
    "                                \"section\": columns, \"subsection\":subsections, \"sentence\": sentences,\n",
    "                                \"lemma\": lemmas, \"UMLS\": entities, \"UMLS_IDS\": umls_ids,\n",
    "                                \"w2vVector\": vectors, \"translated\":translated})\n",
    "            \n",
    "\n",
    "    \n",
    "    for col in scispacy_ent_types:\n",
    "        new_df[col] = \"[]\"\n",
    "    for j in tqdm(new_df.index):\n",
    "        for nlp in nlps:\n",
    "            doc = nlp(str(new_df.iloc[j][\"sentence\"]))\n",
    "            keys = list(set([ent.label_ for ent in doc.ents]))\n",
    "            for key in keys:\n",
    "\n",
    "                # Some entity types are present in the model, but not in the documentation! \n",
    "                # In that case, we'll just automatically add it to the df. \n",
    "                if key not in scispacy_ent_types:\n",
    "                    new_df = pd.concat([new_df,pd.DataFrame(columns=[key])])\n",
    "                    new_df[key] = \"[]\"\n",
    "\n",
    "                values = [ent.text for ent in doc.ents if ent.label_ == key]\n",
    "                new_df.at[j,key] = values\n",
    "\n",
    "                \n",
    "    new_df[\"w2vVector\"] = [np.asarray(a=i, dtype=\"float64\") for i in new_df[\"w2vVector\"].to_list()]\n",
    "\n",
    "    \n",
    "    new_df.to_pickle(\"df_parts/\" + new_df.iloc[0][\"sentence_id\"] + \".pickle\", compression=\"gzip\")\n",
    "    #new_df.drop(columns=[\"w2vVector\"]).to_pickle(\"df_parts/\" + new_df.iloc[0][\"sentence_id\"] + \".ptext\", compression=\"gzip\")\n",
    "    #new_df[[\"sentence_id\",\"w2vVector\"]].to_pickle(\"df_parts/\" + new_df.iloc[0][\"sentence_id\"] + \".pvec\", compression=\"gzip\")"
   ]
  },
  {
   "cell_type": "code",
   "execution_count": 19,
   "metadata": {},
   "outputs": [],
   "source": [
    "# Change this to where you have the metadata file. Make sure to untar/unzip all the folders.\n",
    "directory = \"/home/acorn/Documents/covid/CORD-19-research-challenge/\"\n",
    "\n",
    "# This method will parse the metadata, add all JSON information according to the highest\n",
    "# quality source available (Metadata > XML Parse > PDF Parse > leftovers in Metadata)\n",
    "# The function returns a pandas dataframe. \n",
    "\n",
    "df = process_metadata(directory)\n",
    "\n",
    "# Remove the rows where text was unavailable\n",
    "df = df[df[\"text\"] != \"~\"]\n",
    "\n",
    "# Save the processed data however you like\n",
    "df.to_pickle(\"v9_dataset.pkl\", compression=\"gzip\")"
   ]
  },
  {
   "cell_type": "code",
   "execution_count": 34,
   "metadata": {},
   "outputs": [],
   "source": [
    "df = pd.read_pickle(\"v9/v9_dataset.pkl\", compression=\"gzip\")\n",
    "df[\"text\"] = [str(i).replace(\"((\",\"\").replace(\"))\",\"\").replace(\"(.\",\"\").replace(\".)\",\"\").replace(\"q q\",\"\").replace(\"\\n\",\"\") for i in df[\"text\"]]"
   ]
  },
  {
   "cell_type": "code",
   "execution_count": 35,
   "metadata": {},
   "outputs": [
    {
     "data": {
      "text/plain": [
       "222348"
      ]
     },
     "execution_count": 35,
     "metadata": {},
     "output_type": "execute_result"
    }
   ],
   "source": [
    "len(df)"
   ]
  },
  {
   "cell_type": "code",
   "execution_count": 38,
   "metadata": {},
   "outputs": [],
   "source": [
    "mask = (df['text'].str.len() > 10)\n",
    "df = df.loc[mask]"
   ]
  },
  {
   "cell_type": "code",
   "execution_count": 39,
   "metadata": {},
   "outputs": [
    {
     "data": {
      "text/plain": [
       "213740"
      ]
     },
     "execution_count": 39,
     "metadata": {},
     "output_type": "execute_result"
    }
   ],
   "source": [
    "len(df)"
   ]
  },
  {
   "cell_type": "code",
   "execution_count": 40,
   "metadata": {},
   "outputs": [
    {
     "data": {
      "application/vnd.jupyter.widget-view+json": {
       "model_id": "edd8cb13db7a4833b98635aaaaa7ee75",
       "version_major": 2,
       "version_minor": 0
      },
      "text/plain": [
       "HBox(children=(FloatProgress(value=0.0, max=30.0), HTML(value='')))"
      ]
     },
     "metadata": {},
     "output_type": "display_data"
    },
    {
     "name": "stderr",
     "output_type": "stream",
     "text": [
      "/home/acorn/anaconda3/envs/covid/lib/python3.7/site-packages/sklearn/base.py:318: UserWarning: Trying to unpickle estimator TfidfTransformer from version 0.20.3 when using version 0.22.2.post1. This might lead to breaking code or invalid results. Use at your own risk.\n",
      "  UserWarning)\n",
      "/home/acorn/anaconda3/envs/covid/lib/python3.7/site-packages/sklearn/base.py:318: UserWarning: Trying to unpickle estimator TfidfTransformer from version 0.20.3 when using version 0.22.2.post1. This might lead to breaking code or invalid results. Use at your own risk.\n",
      "  UserWarning)\n",
      "/home/acorn/anaconda3/envs/covid/lib/python3.7/site-packages/sklearn/base.py:318: UserWarning: Trying to unpickle estimator TfidfTransformer from version 0.20.3 when using version 0.22.2.post1. This might lead to breaking code or invalid results. Use at your own risk.\n",
      "  UserWarning)\n",
      "/home/acorn/anaconda3/envs/covid/lib/python3.7/site-packages/sklearn/base.py:318: UserWarning: Trying to unpickle estimator TfidfTransformer from version 0.20.3 when using version 0.22.2.post1. This might lead to breaking code or invalid results. Use at your own risk.\n",
      "  UserWarning)\n",
      "/home/acorn/anaconda3/envs/covid/lib/python3.7/site-packages/sklearn/base.py:318: UserWarning: Trying to unpickle estimator TfidfTransformer from version 0.20.3 when using version 0.22.2.post1. This might lead to breaking code or invalid results. Use at your own risk.\n",
      "  UserWarning)\n",
      "/home/acorn/anaconda3/envs/covid/lib/python3.7/site-packages/sklearn/base.py:318: UserWarning: Trying to unpickle estimator TfidfVectorizer from version 0.20.3 when using version 0.22.2.post1. This might lead to breaking code or invalid results. Use at your own risk.\n",
      "  UserWarning)\n",
      "/home/acorn/anaconda3/envs/covid/lib/python3.7/site-packages/sklearn/base.py:318: UserWarning: Trying to unpickle estimator TfidfVectorizer from version 0.20.3 when using version 0.22.2.post1. This might lead to breaking code or invalid results. Use at your own risk.\n",
      "  UserWarning)\n",
      "/home/acorn/anaconda3/envs/covid/lib/python3.7/site-packages/sklearn/base.py:318: UserWarning: Trying to unpickle estimator TfidfVectorizer from version 0.20.3 when using version 0.22.2.post1. This might lead to breaking code or invalid results. Use at your own risk.\n",
      "  UserWarning)\n",
      "/home/acorn/anaconda3/envs/covid/lib/python3.7/site-packages/sklearn/base.py:318: UserWarning: Trying to unpickle estimator TfidfVectorizer from version 0.20.3 when using version 0.22.2.post1. This might lead to breaking code or invalid results. Use at your own risk.\n",
      "  UserWarning)\n",
      "/home/acorn/anaconda3/envs/covid/lib/python3.7/site-packages/sklearn/base.py:318: UserWarning: Trying to unpickle estimator TfidfVectorizer from version 0.20.3 when using version 0.22.2.post1. This might lead to breaking code or invalid results. Use at your own risk.\n",
      "  UserWarning)\n"
     ]
    },
    {
     "data": {
      "application/vnd.jupyter.widget-view+json": {
       "model_id": "7aeac0c35c8d4afa955762f8ca4f3830",
       "version_major": 2,
       "version_minor": 0
      },
      "text/plain": [
       "HBox(children=(FloatProgress(value=0.0, max=7125.0), HTML(value='')))"
      ]
     },
     "metadata": {},
     "output_type": "display_data"
    },
    {
     "data": {
      "application/vnd.jupyter.widget-view+json": {
       "model_id": "271723b351954da5a33271d2283a5354",
       "version_major": 2,
       "version_minor": 0
      },
      "text/plain": [
       "HBox(children=(FloatProgress(value=0.0, max=7125.0), HTML(value='')))"
      ]
     },
     "metadata": {},
     "output_type": "display_data"
    },
    {
     "data": {
      "application/vnd.jupyter.widget-view+json": {
       "model_id": "50b146d3ff8b42f4bd30e2da46c38736",
       "version_major": 2,
       "version_minor": 0
      },
      "text/plain": [
       "HBox(children=(FloatProgress(value=0.0, max=7125.0), HTML(value='')))"
      ]
     },
     "metadata": {},
     "output_type": "display_data"
    },
    {
     "data": {
      "application/vnd.jupyter.widget-view+json": {
       "model_id": "242f69d62bdb41fea0e92dd5e2cac958",
       "version_major": 2,
       "version_minor": 0
      },
      "text/plain": [
       "HBox(children=(FloatProgress(value=0.0, max=7125.0), HTML(value='')))"
      ]
     },
     "metadata": {},
     "output_type": "display_data"
    },
    {
     "data": {
      "application/vnd.jupyter.widget-view+json": {
       "model_id": "99d7de783015447990b320471e8d5aea",
       "version_major": 2,
       "version_minor": 0
      },
      "text/plain": [
       "HBox(children=(FloatProgress(value=0.0, max=7125.0), HTML(value='')))"
      ]
     },
     "metadata": {},
     "output_type": "display_data"
    },
    {
     "name": "stdout",
     "output_type": "stream",
     "text": [
      "\n"
     ]
    },
    {
     "data": {
      "application/vnd.jupyter.widget-view+json": {
       "model_id": "c975d67dcf454ea597ec7e4ceaf83c33",
       "version_major": 2,
       "version_minor": 0
      },
      "text/plain": [
       "HBox(children=(FloatProgress(value=0.0, max=28938.0), HTML(value='')))"
      ]
     },
     "metadata": {},
     "output_type": "display_data"
    },
    {
     "name": "stdout",
     "output_type": "stream",
     "text": [
      "\n"
     ]
    },
    {
     "data": {
      "application/vnd.jupyter.widget-view+json": {
       "model_id": "d63077642dc644ba83a36dd3209a7b79",
       "version_major": 2,
       "version_minor": 0
      },
      "text/plain": [
       "HBox(children=(FloatProgress(value=0.0, max=30804.0), HTML(value='')))"
      ]
     },
     "metadata": {},
     "output_type": "display_data"
    },
    {
     "name": "stdout",
     "output_type": "stream",
     "text": [
      "\n"
     ]
    },
    {
     "data": {
      "application/vnd.jupyter.widget-view+json": {
       "model_id": "0ded00e4b00443b794840d824ac296d5",
       "version_major": 2,
       "version_minor": 0
      },
      "text/plain": [
       "HBox(children=(FloatProgress(value=0.0, max=31214.0), HTML(value='')))"
      ]
     },
     "metadata": {},
     "output_type": "display_data"
    },
    {
     "name": "stdout",
     "output_type": "stream",
     "text": [
      "\n"
     ]
    },
    {
     "data": {
      "application/vnd.jupyter.widget-view+json": {
       "model_id": "be9e773be6fc45be94c7346cac9ab1a5",
       "version_major": 2,
       "version_minor": 0
      },
      "text/plain": [
       "HBox(children=(FloatProgress(value=0.0, max=32077.0), HTML(value='')))"
      ]
     },
     "metadata": {},
     "output_type": "display_data"
    },
    {
     "name": "stdout",
     "output_type": "stream",
     "text": [
      "\n"
     ]
    },
    {
     "data": {
      "application/vnd.jupyter.widget-view+json": {
       "model_id": "ddbf55a4f18c47b7a50e5a7f9c66dffb",
       "version_major": 2,
       "version_minor": 0
      },
      "text/plain": [
       "HBox(children=(FloatProgress(value=0.0, max=31629.0), HTML(value='')))"
      ]
     },
     "metadata": {},
     "output_type": "display_data"
    },
    {
     "name": "stdout",
     "output_type": "stream",
     "text": [
      "\n"
     ]
    },
    {
     "name": "stderr",
     "output_type": "stream",
     "text": [
      "/home/acorn/anaconda3/envs/covid/lib/python3.7/site-packages/sklearn/base.py:318: UserWarning: Trying to unpickle estimator TfidfTransformer from version 0.20.3 when using version 0.22.2.post1. This might lead to breaking code or invalid results. Use at your own risk.\n",
      "  UserWarning)\n",
      "/home/acorn/anaconda3/envs/covid/lib/python3.7/site-packages/sklearn/base.py:318: UserWarning: Trying to unpickle estimator TfidfVectorizer from version 0.20.3 when using version 0.22.2.post1. This might lead to breaking code or invalid results. Use at your own risk.\n",
      "  UserWarning)\n"
     ]
    },
    {
     "name": "stdout",
     "output_type": "stream",
     "text": [
      "\n"
     ]
    },
    {
     "data": {
      "application/vnd.jupyter.widget-view+json": {
       "model_id": "074e0753ebaf4daf8207dac0db9873c9",
       "version_major": 2,
       "version_minor": 0
      },
      "text/plain": [
       "HBox(children=(FloatProgress(value=0.0, max=7125.0), HTML(value='')))"
      ]
     },
     "metadata": {},
     "output_type": "display_data"
    },
    {
     "name": "stdout",
     "output_type": "stream",
     "text": [
      "\n",
      "\n"
     ]
    },
    {
     "name": "stderr",
     "output_type": "stream",
     "text": [
      "/home/acorn/anaconda3/envs/covid/lib/python3.7/site-packages/sklearn/base.py:318: UserWarning: Trying to unpickle estimator TfidfTransformer from version 0.20.3 when using version 0.22.2.post1. This might lead to breaking code or invalid results. Use at your own risk.\n",
      "  UserWarning)\n",
      "/home/acorn/anaconda3/envs/covid/lib/python3.7/site-packages/sklearn/base.py:318: UserWarning: Trying to unpickle estimator TfidfVectorizer from version 0.20.3 when using version 0.22.2.post1. This might lead to breaking code or invalid results. Use at your own risk.\n",
      "  UserWarning)\n"
     ]
    },
    {
     "name": "stdout",
     "output_type": "stream",
     "text": [
      "\n"
     ]
    },
    {
     "data": {
      "application/vnd.jupyter.widget-view+json": {
       "model_id": "de68022ce21e4e959cffbfc1dd35c5ca",
       "version_major": 2,
       "version_minor": 0
      },
      "text/plain": [
       "HBox(children=(FloatProgress(value=0.0, max=7125.0), HTML(value='')))"
      ]
     },
     "metadata": {},
     "output_type": "display_data"
    },
    {
     "name": "stderr",
     "output_type": "stream",
     "text": [
      "/home/acorn/anaconda3/envs/covid/lib/python3.7/site-packages/sklearn/base.py:318: UserWarning: Trying to unpickle estimator TfidfTransformer from version 0.20.3 when using version 0.22.2.post1. This might lead to breaking code or invalid results. Use at your own risk.\n",
      "  UserWarning)\n",
      "/home/acorn/anaconda3/envs/covid/lib/python3.7/site-packages/sklearn/base.py:318: UserWarning: Trying to unpickle estimator TfidfVectorizer from version 0.20.3 when using version 0.22.2.post1. This might lead to breaking code or invalid results. Use at your own risk.\n",
      "  UserWarning)\n",
      "/home/acorn/anaconda3/envs/covid/lib/python3.7/site-packages/sklearn/base.py:318: UserWarning: Trying to unpickle estimator TfidfTransformer from version 0.20.3 when using version 0.22.2.post1. This might lead to breaking code or invalid results. Use at your own risk.\n",
      "  UserWarning)\n",
      "/home/acorn/anaconda3/envs/covid/lib/python3.7/site-packages/sklearn/base.py:318: UserWarning: Trying to unpickle estimator TfidfVectorizer from version 0.20.3 when using version 0.22.2.post1. This might lead to breaking code or invalid results. Use at your own risk.\n",
      "  UserWarning)\n",
      "/home/acorn/anaconda3/envs/covid/lib/python3.7/site-packages/sklearn/base.py:318: UserWarning: Trying to unpickle estimator TfidfTransformer from version 0.20.3 when using version 0.22.2.post1. This might lead to breaking code or invalid results. Use at your own risk.\n",
      "  UserWarning)\n",
      "/home/acorn/anaconda3/envs/covid/lib/python3.7/site-packages/sklearn/base.py:318: UserWarning: Trying to unpickle estimator TfidfVectorizer from version 0.20.3 when using version 0.22.2.post1. This might lead to breaking code or invalid results. Use at your own risk.\n",
      "  UserWarning)\n"
     ]
    },
    {
     "data": {
      "application/vnd.jupyter.widget-view+json": {
       "model_id": "de2238e3d7b2489881ab3331b5fb8ff9",
       "version_major": 2,
       "version_minor": 0
      },
      "text/plain": [
       "HBox(children=(FloatProgress(value=0.0, max=7125.0), HTML(value='')))"
      ]
     },
     "metadata": {},
     "output_type": "display_data"
    },
    {
     "data": {
      "application/vnd.jupyter.widget-view+json": {
       "model_id": "16b085139517456a97ab87e1eefb2415",
       "version_major": 2,
       "version_minor": 0
      },
      "text/plain": [
       "HBox(children=(FloatProgress(value=0.0, max=7125.0), HTML(value='')))"
      ]
     },
     "metadata": {},
     "output_type": "display_data"
    },
    {
     "data": {
      "application/vnd.jupyter.widget-view+json": {
       "model_id": "20a4b46e21814f5dbc1eb8bc2d8d56e5",
       "version_major": 2,
       "version_minor": 0
      },
      "text/plain": [
       "HBox(children=(FloatProgress(value=0.0, max=7125.0), HTML(value='')))"
      ]
     },
     "metadata": {},
     "output_type": "display_data"
    },
    {
     "name": "stdout",
     "output_type": "stream",
     "text": [
      "\n"
     ]
    },
    {
     "data": {
      "application/vnd.jupyter.widget-view+json": {
       "model_id": "11ea15eb8e174ff8ac54a920bed53d90",
       "version_major": 2,
       "version_minor": 0
      },
      "text/plain": [
       "HBox(children=(FloatProgress(value=0.0, max=18218.0), HTML(value='')))"
      ]
     },
     "metadata": {},
     "output_type": "display_data"
    },
    {
     "name": "stdout",
     "output_type": "stream",
     "text": [
      "\n"
     ]
    },
    {
     "data": {
      "application/vnd.jupyter.widget-view+json": {
       "model_id": "2de79c941c314da49790dee73153652f",
       "version_major": 2,
       "version_minor": 0
      },
      "text/plain": [
       "HBox(children=(FloatProgress(value=0.0, max=13126.0), HTML(value='')))"
      ]
     },
     "metadata": {},
     "output_type": "display_data"
    },
    {
     "name": "stdout",
     "output_type": "stream",
     "text": [
      "\n"
     ]
    },
    {
     "data": {
      "application/vnd.jupyter.widget-view+json": {
       "model_id": "cdc518678f054134bca94727acfaf683",
       "version_major": 2,
       "version_minor": 0
      },
      "text/plain": [
       "HBox(children=(FloatProgress(value=0.0, max=19431.0), HTML(value='')))"
      ]
     },
     "metadata": {},
     "output_type": "display_data"
    },
    {
     "name": "stdout",
     "output_type": "stream",
     "text": [
      "\n"
     ]
    },
    {
     "data": {
      "application/vnd.jupyter.widget-view+json": {
       "model_id": "3fd7939d5a4d4238bd36dad83048206a",
       "version_major": 2,
       "version_minor": 0
      },
      "text/plain": [
       "HBox(children=(FloatProgress(value=0.0, max=18537.0), HTML(value='')))"
      ]
     },
     "metadata": {},
     "output_type": "display_data"
    },
    {
     "name": "stdout",
     "output_type": "stream",
     "text": [
      "\n"
     ]
    },
    {
     "data": {
      "application/vnd.jupyter.widget-view+json": {
       "model_id": "ba4cb8dba86f4ce68445aef223c64bfc",
       "version_major": 2,
       "version_minor": 0
      },
      "text/plain": [
       "HBox(children=(FloatProgress(value=0.0, max=20582.0), HTML(value='')))"
      ]
     },
     "metadata": {},
     "output_type": "display_data"
    },
    {
     "name": "stdout",
     "output_type": "stream",
     "text": [
      "\n"
     ]
    },
    {
     "name": "stderr",
     "output_type": "stream",
     "text": [
      "/home/acorn/anaconda3/envs/covid/lib/python3.7/site-packages/sklearn/base.py:318: UserWarning: Trying to unpickle estimator TfidfTransformer from version 0.20.3 when using version 0.22.2.post1. This might lead to breaking code or invalid results. Use at your own risk.\n",
      "  UserWarning)\n",
      "/home/acorn/anaconda3/envs/covid/lib/python3.7/site-packages/sklearn/base.py:318: UserWarning: Trying to unpickle estimator TfidfVectorizer from version 0.20.3 when using version 0.22.2.post1. This might lead to breaking code or invalid results. Use at your own risk.\n",
      "  UserWarning)\n"
     ]
    },
    {
     "name": "stdout",
     "output_type": "stream",
     "text": [
      "\n"
     ]
    },
    {
     "data": {
      "application/vnd.jupyter.widget-view+json": {
       "model_id": "fcf938c3cc894c93adcee58721faba47",
       "version_major": 2,
       "version_minor": 0
      },
      "text/plain": [
       "HBox(children=(FloatProgress(value=0.0, max=7125.0), HTML(value='')))"
      ]
     },
     "metadata": {},
     "output_type": "display_data"
    },
    {
     "name": "stderr",
     "output_type": "stream",
     "text": [
      "/home/acorn/anaconda3/envs/covid/lib/python3.7/site-packages/sklearn/base.py:318: UserWarning: Trying to unpickle estimator TfidfTransformer from version 0.20.3 when using version 0.22.2.post1. This might lead to breaking code or invalid results. Use at your own risk.\n",
      "  UserWarning)\n",
      "/home/acorn/anaconda3/envs/covid/lib/python3.7/site-packages/sklearn/base.py:318: UserWarning: Trying to unpickle estimator TfidfVectorizer from version 0.20.3 when using version 0.22.2.post1. This might lead to breaking code or invalid results. Use at your own risk.\n",
      "  UserWarning)\n"
     ]
    },
    {
     "data": {
      "application/vnd.jupyter.widget-view+json": {
       "model_id": "62b3cd183cdb4a21a3e3bacaa8cc182b",
       "version_major": 2,
       "version_minor": 0
      },
      "text/plain": [
       "HBox(children=(FloatProgress(value=0.0, max=7125.0), HTML(value='')))"
      ]
     },
     "metadata": {},
     "output_type": "display_data"
    },
    {
     "name": "stdout",
     "output_type": "stream",
     "text": [
      "\n",
      "\n"
     ]
    },
    {
     "name": "stderr",
     "output_type": "stream",
     "text": [
      "/home/acorn/anaconda3/envs/covid/lib/python3.7/site-packages/sklearn/base.py:318: UserWarning: Trying to unpickle estimator TfidfTransformer from version 0.20.3 when using version 0.22.2.post1. This might lead to breaking code or invalid results. Use at your own risk.\n",
      "  UserWarning)\n",
      "/home/acorn/anaconda3/envs/covid/lib/python3.7/site-packages/sklearn/base.py:318: UserWarning: Trying to unpickle estimator TfidfVectorizer from version 0.20.3 when using version 0.22.2.post1. This might lead to breaking code or invalid results. Use at your own risk.\n",
      "  UserWarning)\n"
     ]
    },
    {
     "name": "stdout",
     "output_type": "stream",
     "text": [
      "\n"
     ]
    },
    {
     "data": {
      "application/vnd.jupyter.widget-view+json": {
       "model_id": "acc1f87afadb4acd8f373aed09128994",
       "version_major": 2,
       "version_minor": 0
      },
      "text/plain": [
       "HBox(children=(FloatProgress(value=0.0, max=8972.0), HTML(value='')))"
      ]
     },
     "metadata": {},
     "output_type": "display_data"
    },
    {
     "name": "stderr",
     "output_type": "stream",
     "text": [
      "/home/acorn/anaconda3/envs/covid/lib/python3.7/site-packages/sklearn/base.py:318: UserWarning: Trying to unpickle estimator TfidfTransformer from version 0.20.3 when using version 0.22.2.post1. This might lead to breaking code or invalid results. Use at your own risk.\n",
      "  UserWarning)\n",
      "/home/acorn/anaconda3/envs/covid/lib/python3.7/site-packages/sklearn/base.py:318: UserWarning: Trying to unpickle estimator TfidfVectorizer from version 0.20.3 when using version 0.22.2.post1. This might lead to breaking code or invalid results. Use at your own risk.\n",
      "  UserWarning)\n"
     ]
    },
    {
     "data": {
      "application/vnd.jupyter.widget-view+json": {
       "model_id": "8ecb9bdf876a4ae59433f00a4aa12eb0",
       "version_major": 2,
       "version_minor": 0
      },
      "text/plain": [
       "HBox(children=(FloatProgress(value=0.0, max=7125.0), HTML(value='')))"
      ]
     },
     "metadata": {},
     "output_type": "display_data"
    },
    {
     "name": "stdout",
     "output_type": "stream",
     "text": [
      "\n"
     ]
    },
    {
     "data": {
      "application/vnd.jupyter.widget-view+json": {
       "model_id": "5f2e3dcce8274910826bce6747358df5",
       "version_major": 2,
       "version_minor": 0
      },
      "text/plain": [
       "HBox(children=(FloatProgress(value=0.0, max=7125.0), HTML(value='')))"
      ]
     },
     "metadata": {},
     "output_type": "display_data"
    },
    {
     "name": "stderr",
     "output_type": "stream",
     "text": [
      "/home/acorn/anaconda3/envs/covid/lib/python3.7/site-packages/sklearn/base.py:318: UserWarning: Trying to unpickle estimator TfidfTransformer from version 0.20.3 when using version 0.22.2.post1. This might lead to breaking code or invalid results. Use at your own risk.\n",
      "  UserWarning)\n",
      "/home/acorn/anaconda3/envs/covid/lib/python3.7/site-packages/sklearn/base.py:318: UserWarning: Trying to unpickle estimator TfidfVectorizer from version 0.20.3 when using version 0.22.2.post1. This might lead to breaking code or invalid results. Use at your own risk.\n",
      "  UserWarning)\n"
     ]
    },
    {
     "data": {
      "application/vnd.jupyter.widget-view+json": {
       "model_id": "15489604d1104a0f98470553d0e38516",
       "version_major": 2,
       "version_minor": 0
      },
      "text/plain": [
       "HBox(children=(FloatProgress(value=0.0, max=7125.0), HTML(value='')))"
      ]
     },
     "metadata": {},
     "output_type": "display_data"
    },
    {
     "name": "stdout",
     "output_type": "stream",
     "text": [
      "\n",
      "\n"
     ]
    },
    {
     "data": {
      "application/vnd.jupyter.widget-view+json": {
       "model_id": "1a1c4fabfd20437f97a1e1b03f3c9c38",
       "version_major": 2,
       "version_minor": 0
      },
      "text/plain": [
       "HBox(children=(FloatProgress(value=0.0, max=22608.0), HTML(value='')))"
      ]
     },
     "metadata": {},
     "output_type": "display_data"
    },
    {
     "name": "stderr",
     "output_type": "stream",
     "text": [
      "/home/acorn/anaconda3/envs/covid/lib/python3.7/site-packages/sklearn/base.py:318: UserWarning: Trying to unpickle estimator TfidfTransformer from version 0.20.3 when using version 0.22.2.post1. This might lead to breaking code or invalid results. Use at your own risk.\n",
      "  UserWarning)\n",
      "/home/acorn/anaconda3/envs/covid/lib/python3.7/site-packages/sklearn/base.py:318: UserWarning: Trying to unpickle estimator TfidfVectorizer from version 0.20.3 when using version 0.22.2.post1. This might lead to breaking code or invalid results. Use at your own risk.\n",
      "  UserWarning)\n"
     ]
    },
    {
     "data": {
      "application/vnd.jupyter.widget-view+json": {
       "model_id": "e949f656d0334c939e614130bf0bb8c2",
       "version_major": 2,
       "version_minor": 0
      },
      "text/plain": [
       "HBox(children=(FloatProgress(value=0.0, max=7125.0), HTML(value='')))"
      ]
     },
     "metadata": {},
     "output_type": "display_data"
    },
    {
     "name": "stdout",
     "output_type": "stream",
     "text": [
      "\n"
     ]
    },
    {
     "data": {
      "application/vnd.jupyter.widget-view+json": {
       "model_id": "088ef9d23c3744a79e9d78ce010317d6",
       "version_major": 2,
       "version_minor": 0
      },
      "text/plain": [
       "HBox(children=(FloatProgress(value=0.0, max=20757.0), HTML(value='')))"
      ]
     },
     "metadata": {},
     "output_type": "display_data"
    },
    {
     "name": "stdout",
     "output_type": "stream",
     "text": [
      "\n"
     ]
    },
    {
     "data": {
      "application/vnd.jupyter.widget-view+json": {
       "model_id": "a2e5a358fd984bdba39f6839a3fd0e6e",
       "version_major": 2,
       "version_minor": 0
      },
      "text/plain": [
       "HBox(children=(FloatProgress(value=0.0, max=23613.0), HTML(value='')))"
      ]
     },
     "metadata": {},
     "output_type": "display_data"
    },
    {
     "name": "stdout",
     "output_type": "stream",
     "text": [
      "\n"
     ]
    },
    {
     "data": {
      "application/vnd.jupyter.widget-view+json": {
       "model_id": "1947eab27984436eabf726e50a262b43",
       "version_major": 2,
       "version_minor": 0
      },
      "text/plain": [
       "HBox(children=(FloatProgress(value=0.0, max=28859.0), HTML(value='')))"
      ]
     },
     "metadata": {},
     "output_type": "display_data"
    },
    {
     "name": "stdout",
     "output_type": "stream",
     "text": [
      "\n"
     ]
    },
    {
     "data": {
      "application/vnd.jupyter.widget-view+json": {
       "model_id": "fbf560cf3f28440bb2766327095599aa",
       "version_major": 2,
       "version_minor": 0
      },
      "text/plain": [
       "HBox(children=(FloatProgress(value=0.0, max=24877.0), HTML(value='')))"
      ]
     },
     "metadata": {},
     "output_type": "display_data"
    },
    {
     "name": "stdout",
     "output_type": "stream",
     "text": [
      "\n"
     ]
    },
    {
     "name": "stderr",
     "output_type": "stream",
     "text": [
      "/home/acorn/anaconda3/envs/covid/lib/python3.7/site-packages/sklearn/base.py:318: UserWarning: Trying to unpickle estimator TfidfTransformer from version 0.20.3 when using version 0.22.2.post1. This might lead to breaking code or invalid results. Use at your own risk.\n",
      "  UserWarning)\n",
      "/home/acorn/anaconda3/envs/covid/lib/python3.7/site-packages/sklearn/base.py:318: UserWarning: Trying to unpickle estimator TfidfVectorizer from version 0.20.3 when using version 0.22.2.post1. This might lead to breaking code or invalid results. Use at your own risk.\n",
      "  UserWarning)\n"
     ]
    },
    {
     "data": {
      "application/vnd.jupyter.widget-view+json": {
       "model_id": "c19fc18f1b6c4d80bffdbfe517f9d1be",
       "version_major": 2,
       "version_minor": 0
      },
      "text/plain": [
       "HBox(children=(FloatProgress(value=0.0, max=7125.0), HTML(value='')))"
      ]
     },
     "metadata": {},
     "output_type": "display_data"
    },
    {
     "name": "stdout",
     "output_type": "stream",
     "text": [
      "\n"
     ]
    },
    {
     "name": "stderr",
     "output_type": "stream",
     "text": [
      "/home/acorn/anaconda3/envs/covid/lib/python3.7/site-packages/sklearn/base.py:318: UserWarning: Trying to unpickle estimator TfidfTransformer from version 0.20.3 when using version 0.22.2.post1. This might lead to breaking code or invalid results. Use at your own risk.\n",
      "  UserWarning)\n",
      "/home/acorn/anaconda3/envs/covid/lib/python3.7/site-packages/sklearn/base.py:318: UserWarning: Trying to unpickle estimator TfidfVectorizer from version 0.20.3 when using version 0.22.2.post1. This might lead to breaking code or invalid results. Use at your own risk.\n",
      "  UserWarning)\n"
     ]
    },
    {
     "data": {
      "application/vnd.jupyter.widget-view+json": {
       "model_id": "29815a787d3d497f91b885dbd7df7b63",
       "version_major": 2,
       "version_minor": 0
      },
      "text/plain": [
       "HBox(children=(FloatProgress(value=0.0, max=7125.0), HTML(value='')))"
      ]
     },
     "metadata": {},
     "output_type": "display_data"
    },
    {
     "name": "stdout",
     "output_type": "stream",
     "text": [
      "\n"
     ]
    },
    {
     "name": "stderr",
     "output_type": "stream",
     "text": [
      "/home/acorn/anaconda3/envs/covid/lib/python3.7/site-packages/sklearn/base.py:318: UserWarning: Trying to unpickle estimator TfidfTransformer from version 0.20.3 when using version 0.22.2.post1. This might lead to breaking code or invalid results. Use at your own risk.\n",
      "  UserWarning)\n",
      "/home/acorn/anaconda3/envs/covid/lib/python3.7/site-packages/sklearn/base.py:318: UserWarning: Trying to unpickle estimator TfidfVectorizer from version 0.20.3 when using version 0.22.2.post1. This might lead to breaking code or invalid results. Use at your own risk.\n",
      "  UserWarning)\n"
     ]
    },
    {
     "data": {
      "application/vnd.jupyter.widget-view+json": {
       "model_id": "c17b25786c5b4514aac7f4a7bb3ec6e0",
       "version_major": 2,
       "version_minor": 0
      },
      "text/plain": [
       "HBox(children=(FloatProgress(value=0.0, max=7125.0), HTML(value='')))"
      ]
     },
     "metadata": {},
     "output_type": "display_data"
    },
    {
     "name": "stdout",
     "output_type": "stream",
     "text": [
      "\n"
     ]
    },
    {
     "data": {
      "application/vnd.jupyter.widget-view+json": {
       "model_id": "d8a97c87866e4b5ea8dbbcc6f503c33e",
       "version_major": 2,
       "version_minor": 0
      },
      "text/plain": [
       "HBox(children=(FloatProgress(value=0.0, max=20832.0), HTML(value='')))"
      ]
     },
     "metadata": {},
     "output_type": "display_data"
    },
    {
     "name": "stdout",
     "output_type": "stream",
     "text": [
      "\n"
     ]
    },
    {
     "data": {
      "application/vnd.jupyter.widget-view+json": {
       "model_id": "29c021e7ef8a4399a7e57945e840cf69",
       "version_major": 2,
       "version_minor": 0
      },
      "text/plain": [
       "HBox(children=(FloatProgress(value=0.0, max=28229.0), HTML(value='')))"
      ]
     },
     "metadata": {},
     "output_type": "display_data"
    },
    {
     "name": "stdout",
     "output_type": "stream",
     "text": [
      "\n"
     ]
    },
    {
     "name": "stderr",
     "output_type": "stream",
     "text": [
      "/home/acorn/anaconda3/envs/covid/lib/python3.7/site-packages/sklearn/base.py:318: UserWarning: Trying to unpickle estimator TfidfTransformer from version 0.20.3 when using version 0.22.2.post1. This might lead to breaking code or invalid results. Use at your own risk.\n",
      "  UserWarning)\n",
      "/home/acorn/anaconda3/envs/covid/lib/python3.7/site-packages/sklearn/base.py:318: UserWarning: Trying to unpickle estimator TfidfVectorizer from version 0.20.3 when using version 0.22.2.post1. This might lead to breaking code or invalid results. Use at your own risk.\n",
      "  UserWarning)\n"
     ]
    },
    {
     "data": {
      "application/vnd.jupyter.widget-view+json": {
       "model_id": "bb49e90412d741b4b7f0dd594f7fa297",
       "version_major": 2,
       "version_minor": 0
      },
      "text/plain": [
       "HBox(children=(FloatProgress(value=0.0, max=7125.0), HTML(value='')))"
      ]
     },
     "metadata": {},
     "output_type": "display_data"
    },
    {
     "name": "stdout",
     "output_type": "stream",
     "text": [
      "\n",
      "\n"
     ]
    },
    {
     "data": {
      "application/vnd.jupyter.widget-view+json": {
       "model_id": "48277c165c614e188224619faa3a57f2",
       "version_major": 2,
       "version_minor": 0
      },
      "text/plain": [
       "HBox(children=(FloatProgress(value=0.0, max=19669.0), HTML(value='')))"
      ]
     },
     "metadata": {},
     "output_type": "display_data"
    },
    {
     "name": "stderr",
     "output_type": "stream",
     "text": [
      "/home/acorn/anaconda3/envs/covid/lib/python3.7/site-packages/sklearn/base.py:318: UserWarning: Trying to unpickle estimator TfidfTransformer from version 0.20.3 when using version 0.22.2.post1. This might lead to breaking code or invalid results. Use at your own risk.\n",
      "  UserWarning)\n",
      "/home/acorn/anaconda3/envs/covid/lib/python3.7/site-packages/sklearn/base.py:318: UserWarning: Trying to unpickle estimator TfidfVectorizer from version 0.20.3 when using version 0.22.2.post1. This might lead to breaking code or invalid results. Use at your own risk.\n",
      "  UserWarning)\n"
     ]
    },
    {
     "data": {
      "application/vnd.jupyter.widget-view+json": {
       "model_id": "90b72d220de942beaa7425749a7ce3d1",
       "version_major": 2,
       "version_minor": 0
      },
      "text/plain": [
       "HBox(children=(FloatProgress(value=0.0, max=7124.0), HTML(value='')))"
      ]
     },
     "metadata": {},
     "output_type": "display_data"
    },
    {
     "name": "stdout",
     "output_type": "stream",
     "text": [
      "\n"
     ]
    },
    {
     "data": {
      "application/vnd.jupyter.widget-view+json": {
       "model_id": "ae821af93977480a84f26f1b2d6f4a6e",
       "version_major": 2,
       "version_minor": 0
      },
      "text/plain": [
       "HBox(children=(FloatProgress(value=0.0, max=17465.0), HTML(value='')))"
      ]
     },
     "metadata": {},
     "output_type": "display_data"
    },
    {
     "name": "stdout",
     "output_type": "stream",
     "text": [
      "\n"
     ]
    },
    {
     "name": "stderr",
     "output_type": "stream",
     "text": [
      "/home/acorn/anaconda3/envs/covid/lib/python3.7/site-packages/sklearn/base.py:318: UserWarning: Trying to unpickle estimator TfidfTransformer from version 0.20.3 when using version 0.22.2.post1. This might lead to breaking code or invalid results. Use at your own risk.\n",
      "  UserWarning)\n",
      "/home/acorn/anaconda3/envs/covid/lib/python3.7/site-packages/sklearn/base.py:318: UserWarning: Trying to unpickle estimator TfidfVectorizer from version 0.20.3 when using version 0.22.2.post1. This might lead to breaking code or invalid results. Use at your own risk.\n",
      "  UserWarning)\n"
     ]
    },
    {
     "name": "stdout",
     "output_type": "stream",
     "text": [
      "\n"
     ]
    },
    {
     "data": {
      "application/vnd.jupyter.widget-view+json": {
       "model_id": "0422684515ce475db746e93a9fa28c3f",
       "version_major": 2,
       "version_minor": 0
      },
      "text/plain": [
       "HBox(children=(FloatProgress(value=0.0, max=25160.0), HTML(value='')))"
      ]
     },
     "metadata": {},
     "output_type": "display_data"
    },
    {
     "data": {
      "application/vnd.jupyter.widget-view+json": {
       "model_id": "2f476a422ad847f5a50a1cd84bae8b18",
       "version_major": 2,
       "version_minor": 0
      },
      "text/plain": [
       "HBox(children=(FloatProgress(value=0.0, max=7124.0), HTML(value='')))"
      ]
     },
     "metadata": {},
     "output_type": "display_data"
    },
    {
     "name": "stdout",
     "output_type": "stream",
     "text": [
      "\n"
     ]
    },
    {
     "name": "stderr",
     "output_type": "stream",
     "text": [
      "/home/acorn/anaconda3/envs/covid/lib/python3.7/site-packages/sklearn/base.py:318: UserWarning: Trying to unpickle estimator TfidfTransformer from version 0.20.3 when using version 0.22.2.post1. This might lead to breaking code or invalid results. Use at your own risk.\n",
      "  UserWarning)\n",
      "/home/acorn/anaconda3/envs/covid/lib/python3.7/site-packages/sklearn/base.py:318: UserWarning: Trying to unpickle estimator TfidfVectorizer from version 0.20.3 when using version 0.22.2.post1. This might lead to breaking code or invalid results. Use at your own risk.\n",
      "  UserWarning)\n"
     ]
    },
    {
     "data": {
      "application/vnd.jupyter.widget-view+json": {
       "model_id": "357911e9b8574fd49094b9dbc5d0ed2c",
       "version_major": 2,
       "version_minor": 0
      },
      "text/plain": [
       "HBox(children=(FloatProgress(value=0.0, max=7124.0), HTML(value='')))"
      ]
     },
     "metadata": {},
     "output_type": "display_data"
    },
    {
     "name": "stdout",
     "output_type": "stream",
     "text": [
      "\n"
     ]
    },
    {
     "name": "stderr",
     "output_type": "stream",
     "text": [
      "/home/acorn/anaconda3/envs/covid/lib/python3.7/site-packages/sklearn/base.py:318: UserWarning: Trying to unpickle estimator TfidfTransformer from version 0.20.3 when using version 0.22.2.post1. This might lead to breaking code or invalid results. Use at your own risk.\n",
      "  UserWarning)\n",
      "/home/acorn/anaconda3/envs/covid/lib/python3.7/site-packages/sklearn/base.py:318: UserWarning: Trying to unpickle estimator TfidfVectorizer from version 0.20.3 when using version 0.22.2.post1. This might lead to breaking code or invalid results. Use at your own risk.\n",
      "  UserWarning)\n"
     ]
    },
    {
     "data": {
      "application/vnd.jupyter.widget-view+json": {
       "model_id": "913ca75dde0a4768b821de9ffaf642bb",
       "version_major": 2,
       "version_minor": 0
      },
      "text/plain": [
       "HBox(children=(FloatProgress(value=0.0, max=7124.0), HTML(value='')))"
      ]
     },
     "metadata": {},
     "output_type": "display_data"
    },
    {
     "name": "stdout",
     "output_type": "stream",
     "text": [
      "\n"
     ]
    },
    {
     "name": "stderr",
     "output_type": "stream",
     "text": [
      "/home/acorn/anaconda3/envs/covid/lib/python3.7/site-packages/sklearn/base.py:318: UserWarning: Trying to unpickle estimator TfidfTransformer from version 0.20.3 when using version 0.22.2.post1. This might lead to breaking code or invalid results. Use at your own risk.\n",
      "  UserWarning)\n",
      "/home/acorn/anaconda3/envs/covid/lib/python3.7/site-packages/sklearn/base.py:318: UserWarning: Trying to unpickle estimator TfidfVectorizer from version 0.20.3 when using version 0.22.2.post1. This might lead to breaking code or invalid results. Use at your own risk.\n",
      "  UserWarning)\n"
     ]
    },
    {
     "data": {
      "application/vnd.jupyter.widget-view+json": {
       "model_id": "0f15ee0d6d0c4f8ea384fe75c6351b62",
       "version_major": 2,
       "version_minor": 0
      },
      "text/plain": [
       "HBox(children=(FloatProgress(value=0.0, max=7124.0), HTML(value='')))"
      ]
     },
     "metadata": {},
     "output_type": "display_data"
    },
    {
     "name": "stdout",
     "output_type": "stream",
     "text": [
      "\n"
     ]
    },
    {
     "data": {
      "application/vnd.jupyter.widget-view+json": {
       "model_id": "a0512e5f41f24d0cb7d7af842b4f7781",
       "version_major": 2,
       "version_minor": 0
      },
      "text/plain": [
       "HBox(children=(FloatProgress(value=0.0, max=36060.0), HTML(value='')))"
      ]
     },
     "metadata": {},
     "output_type": "display_data"
    },
    {
     "name": "stdout",
     "output_type": "stream",
     "text": [
      "\n"
     ]
    },
    {
     "data": {
      "application/vnd.jupyter.widget-view+json": {
       "model_id": "0370fd0f454046b2983c0908269e60b4",
       "version_major": 2,
       "version_minor": 0
      },
      "text/plain": [
       "HBox(children=(FloatProgress(value=0.0, max=35831.0), HTML(value='')))"
      ]
     },
     "metadata": {},
     "output_type": "display_data"
    },
    {
     "name": "stdout",
     "output_type": "stream",
     "text": [
      "\n",
      "\n"
     ]
    },
    {
     "data": {
      "application/vnd.jupyter.widget-view+json": {
       "model_id": "8c4fe1a24143497f8188437ff5a77c9e",
       "version_major": 2,
       "version_minor": 0
      },
      "text/plain": [
       "HBox(children=(FloatProgress(value=0.0, max=34299.0), HTML(value='')))"
      ]
     },
     "metadata": {},
     "output_type": "display_data"
    },
    {
     "name": "stderr",
     "output_type": "stream",
     "text": [
      "/home/acorn/anaconda3/envs/covid/lib/python3.7/site-packages/sklearn/base.py:318: UserWarning: Trying to unpickle estimator TfidfTransformer from version 0.20.3 when using version 0.22.2.post1. This might lead to breaking code or invalid results. Use at your own risk.\n",
      "  UserWarning)\n",
      "/home/acorn/anaconda3/envs/covid/lib/python3.7/site-packages/sklearn/base.py:318: UserWarning: Trying to unpickle estimator TfidfVectorizer from version 0.20.3 when using version 0.22.2.post1. This might lead to breaking code or invalid results. Use at your own risk.\n",
      "  UserWarning)\n"
     ]
    },
    {
     "name": "stdout",
     "output_type": "stream",
     "text": [
      "\n"
     ]
    },
    {
     "data": {
      "application/vnd.jupyter.widget-view+json": {
       "model_id": "bf8dd7480a30423aad2bd250f3a9216f",
       "version_major": 2,
       "version_minor": 0
      },
      "text/plain": [
       "HBox(children=(FloatProgress(value=0.0, max=34600.0), HTML(value='')))"
      ]
     },
     "metadata": {},
     "output_type": "display_data"
    },
    {
     "data": {
      "application/vnd.jupyter.widget-view+json": {
       "model_id": "82c02a132f464fa4898056ccbb517fa4",
       "version_major": 2,
       "version_minor": 0
      },
      "text/plain": [
       "HBox(children=(FloatProgress(value=0.0, max=7124.0), HTML(value='')))"
      ]
     },
     "metadata": {},
     "output_type": "display_data"
    },
    {
     "name": "stdout",
     "output_type": "stream",
     "text": [
      "\n"
     ]
    },
    {
     "data": {
      "application/vnd.jupyter.widget-view+json": {
       "model_id": "14bdd6653a424666b93de57d322ac6a5",
       "version_major": 2,
       "version_minor": 0
      },
      "text/plain": [
       "HBox(children=(FloatProgress(value=0.0, max=30163.0), HTML(value='')))"
      ]
     },
     "metadata": {},
     "output_type": "display_data"
    },
    {
     "name": "stdout",
     "output_type": "stream",
     "text": [
      "\n"
     ]
    },
    {
     "name": "stderr",
     "output_type": "stream",
     "text": [
      "/home/acorn/anaconda3/envs/covid/lib/python3.7/site-packages/sklearn/base.py:318: UserWarning: Trying to unpickle estimator TfidfTransformer from version 0.20.3 when using version 0.22.2.post1. This might lead to breaking code or invalid results. Use at your own risk.\n",
      "  UserWarning)\n",
      "/home/acorn/anaconda3/envs/covid/lib/python3.7/site-packages/sklearn/base.py:318: UserWarning: Trying to unpickle estimator TfidfVectorizer from version 0.20.3 when using version 0.22.2.post1. This might lead to breaking code or invalid results. Use at your own risk.\n",
      "  UserWarning)\n"
     ]
    },
    {
     "data": {
      "application/vnd.jupyter.widget-view+json": {
       "model_id": "ef1cebb0089c4cbca716837798f10a28",
       "version_major": 2,
       "version_minor": 0
      },
      "text/plain": [
       "HBox(children=(FloatProgress(value=0.0, max=7124.0), HTML(value='')))"
      ]
     },
     "metadata": {},
     "output_type": "display_data"
    },
    {
     "name": "stdout",
     "output_type": "stream",
     "text": [
      "\n",
      "\n"
     ]
    },
    {
     "name": "stderr",
     "output_type": "stream",
     "text": [
      "/home/acorn/anaconda3/envs/covid/lib/python3.7/site-packages/sklearn/base.py:318: UserWarning: Trying to unpickle estimator TfidfTransformer from version 0.20.3 when using version 0.22.2.post1. This might lead to breaking code or invalid results. Use at your own risk.\n",
      "  UserWarning)\n",
      "/home/acorn/anaconda3/envs/covid/lib/python3.7/site-packages/sklearn/base.py:318: UserWarning: Trying to unpickle estimator TfidfVectorizer from version 0.20.3 when using version 0.22.2.post1. This might lead to breaking code or invalid results. Use at your own risk.\n",
      "  UserWarning)\n",
      "/home/acorn/anaconda3/envs/covid/lib/python3.7/site-packages/sklearn/base.py:318: UserWarning: Trying to unpickle estimator TfidfTransformer from version 0.20.3 when using version 0.22.2.post1. This might lead to breaking code or invalid results. Use at your own risk.\n",
      "  UserWarning)\n",
      "/home/acorn/anaconda3/envs/covid/lib/python3.7/site-packages/sklearn/base.py:318: UserWarning: Trying to unpickle estimator TfidfVectorizer from version 0.20.3 when using version 0.22.2.post1. This might lead to breaking code or invalid results. Use at your own risk.\n",
      "  UserWarning)\n"
     ]
    },
    {
     "data": {
      "application/vnd.jupyter.widget-view+json": {
       "model_id": "59677edc686a44cd87421dc0b3d98673",
       "version_major": 2,
       "version_minor": 0
      },
      "text/plain": [
       "HBox(children=(FloatProgress(value=0.0, max=7124.0), HTML(value='')))"
      ]
     },
     "metadata": {},
     "output_type": "display_data"
    },
    {
     "name": "stdout",
     "output_type": "stream",
     "text": [
      "\n"
     ]
    },
    {
     "data": {
      "application/vnd.jupyter.widget-view+json": {
       "model_id": "7d12dd0249764737a379de47e463366a",
       "version_major": 2,
       "version_minor": 0
      },
      "text/plain": [
       "HBox(children=(FloatProgress(value=0.0, max=7124.0), HTML(value='')))"
      ]
     },
     "metadata": {},
     "output_type": "display_data"
    },
    {
     "name": "stderr",
     "output_type": "stream",
     "text": [
      "/home/acorn/anaconda3/envs/covid/lib/python3.7/site-packages/sklearn/base.py:318: UserWarning: Trying to unpickle estimator TfidfTransformer from version 0.20.3 when using version 0.22.2.post1. This might lead to breaking code or invalid results. Use at your own risk.\n",
      "  UserWarning)\n",
      "/home/acorn/anaconda3/envs/covid/lib/python3.7/site-packages/sklearn/base.py:318: UserWarning: Trying to unpickle estimator TfidfVectorizer from version 0.20.3 when using version 0.22.2.post1. This might lead to breaking code or invalid results. Use at your own risk.\n",
      "  UserWarning)\n"
     ]
    },
    {
     "data": {
      "application/vnd.jupyter.widget-view+json": {
       "model_id": "d6ed982d7fae449a9409bcef8a0fce33",
       "version_major": 2,
       "version_minor": 0
      },
      "text/plain": [
       "HBox(children=(FloatProgress(value=0.0, max=7124.0), HTML(value='')))"
      ]
     },
     "metadata": {},
     "output_type": "display_data"
    },
    {
     "name": "stdout",
     "output_type": "stream",
     "text": [
      "\n",
      "\n"
     ]
    },
    {
     "data": {
      "application/vnd.jupyter.widget-view+json": {
       "model_id": "db4cee1de73344f2ab908482cf600487",
       "version_major": 2,
       "version_minor": 0
      },
      "text/plain": [
       "HBox(children=(FloatProgress(value=0.0, max=23783.0), HTML(value='')))"
      ]
     },
     "metadata": {},
     "output_type": "display_data"
    },
    {
     "name": "stdout",
     "output_type": "stream",
     "text": [
      "\n"
     ]
    },
    {
     "data": {
      "application/vnd.jupyter.widget-view+json": {
       "model_id": "5a086238b78f42649518759b872b3148",
       "version_major": 2,
       "version_minor": 0
      },
      "text/plain": [
       "HBox(children=(FloatProgress(value=0.0, max=30823.0), HTML(value='')))"
      ]
     },
     "metadata": {},
     "output_type": "display_data"
    },
    {
     "name": "stdout",
     "output_type": "stream",
     "text": [
      "\n"
     ]
    },
    {
     "data": {
      "application/vnd.jupyter.widget-view+json": {
       "model_id": "a48ca733ee00486c8dcdd8713c882536",
       "version_major": 2,
       "version_minor": 0
      },
      "text/plain": [
       "HBox(children=(FloatProgress(value=0.0, max=27977.0), HTML(value='')))"
      ]
     },
     "metadata": {},
     "output_type": "display_data"
    },
    {
     "name": "stdout",
     "output_type": "stream",
     "text": [
      "\n"
     ]
    },
    {
     "data": {
      "application/vnd.jupyter.widget-view+json": {
       "model_id": "a53de0cac2ef40feb4dab72ff01bd627",
       "version_major": 2,
       "version_minor": 0
      },
      "text/plain": [
       "HBox(children=(FloatProgress(value=0.0, max=25794.0), HTML(value='')))"
      ]
     },
     "metadata": {},
     "output_type": "display_data"
    },
    {
     "name": "stdout",
     "output_type": "stream",
     "text": [
      "\n",
      "\n",
      "\n",
      "\n",
      "\n"
     ]
    }
   ],
   "source": [
    "parallelize_dataframe(df, pipeline, n_cores=5, n_parts=30)"
   ]
  },
  {
   "cell_type": "markdown",
   "metadata": {},
   "source": [
    "### Put it all together"
   ]
  },
  {
   "cell_type": "code",
   "execution_count": null,
   "metadata": {},
   "outputs": [],
   "source": [
    "# Change this to whatever version of dataset we're on at this point\n",
    "version = \"v8.1\""
   ]
  },
  {
   "cell_type": "code",
   "execution_count": null,
   "metadata": {},
   "outputs": [],
   "source": [
    "df = pd.concat([pd.read_pickle(\"df_parts/\" + f, compression=\"gzip\") for f in os.listdir(\"df_parts/\") if f.endswith(\".ptext\")])"
   ]
  },
  {
   "cell_type": "code",
   "execution_count": null,
   "metadata": {},
   "outputs": [],
   "source": [
    "# Concatenate and save processed text. \n",
    "#df = pd.concat([pd.read_pickle(\"df_parts/\" + f, compression=\"gzip\") for f in os.listdir(\"df_parts/\") if f.endswith(\".ptext\")])\n",
    "df.to_pickle(version + \"processedLocalText.pkl\", compression=\"gzip\")\n",
    "#del df\n",
    "\n",
    "# Concatenate and save processed vectors. \n",
    "#df = pd.concat([pd.read_pickle(\"df_parts/\" + f, compression=\"gzip\") for f in os.listdir(\"df_parts/\") if f.endswith(\".pvec\")])\n",
    "#df.to_pickle(version + \"processedLocalVecs.pkl\", compression=\"gzip\")\n",
    "#del df"
   ]
  },
  {
   "cell_type": "code",
   "execution_count": null,
   "metadata": {},
   "outputs": [],
   "source": [
    "df = pd.read_pickle(\"v8processedLocalText.pkl\", compression=\"gzip\")"
   ]
  },
  {
   "cell_type": "markdown",
   "metadata": {},
   "source": [
    "# Cleanup\n",
    "\n",
    "The following code is simply cleanup after the extraction process. First, we'll save the text data in a json file. Next we can save the vector data because it's large, and most people won't be using it. "
   ]
  },
  {
   "cell_type": "code",
   "execution_count": null,
   "metadata": {},
   "outputs": [],
   "source": [
    "df = pd.concat([pd.read_pickle(\"v8processedLocalText.pkl\", compression=\"gzip\"), pd.read_pickle(\"/home/acorn/Downloads/v8processedServerText.pkl\", compression=\"gzip\")])"
   ]
  },
  {
   "cell_type": "code",
   "execution_count": null,
   "metadata": {},
   "outputs": [],
   "source": [
    "df.to_pickle(\"v8_processedText.pkl\",compression=\"gzip\")"
   ]
  },
  {
   "cell_type": "code",
   "execution_count": null,
   "metadata": {},
   "outputs": [],
   "source": [
    "string_cols = ['cord_uid', 'language', 'sentence_id', 'section', 'sentence']\n",
    "\n",
    "int_cols = [\"subsection\"]\n",
    "\n",
    "list_cols = [col for col in new_df.columns if col not in string_cols and col not in int_cols]\n",
    "\n",
    "\n",
    "new_df.fillna(\"[]\", inplace=True)\n",
    "\n",
    "print(new_df.columns)\n",
    "for col in new_df.columns:\n",
    "    if col in string_cols:\n",
    "        new_df[col] = new_df[col].astype(\"string\")\n",
    "    if col in list_cols:\n",
    "        df[col] = df[col].apply(lambda x: list(x) if not isinstance(x, list) else x)\n",
    "    if col in int_cols:\n",
    "        new_df[col] = new_df[col].astype(\"int\")"
   ]
  }
 ],
 "metadata": {
  "kernelspec": {
   "display_name": "Python 3",
   "language": "python",
   "name": "python3"
  },
  "language_info": {
   "codemirror_mode": {
    "name": "ipython",
    "version": 3
   },
   "file_extension": ".py",
   "mimetype": "text/x-python",
   "name": "python",
   "nbconvert_exporter": "python",
   "pygments_lexer": "ipython3",
   "version": "3.7.6"
  }
 },
 "nbformat": 4,
 "nbformat_minor": 2
}
