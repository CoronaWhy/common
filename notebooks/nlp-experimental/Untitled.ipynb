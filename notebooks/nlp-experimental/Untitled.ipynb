{
 "cells": [
  {
   "cell_type": "code",
   "execution_count": 3,
   "metadata": {},
   "outputs": [],
   "source": [
    "import pandas as pd\n",
    "import spacy\n",
    "from summarizer import Summarizer\n",
    "from elasticsearch import Elasticsearch\n",
    "from summarizer.coreference_handler import CoreferenceHandler\n",
    "from transformers import *"
   ]
  },
  {
   "cell_type": "code",
   "execution_count": 4,
   "metadata": {},
   "outputs": [],
   "source": [
    "nlp = spacy.load(\"en_core_web_lg\")"
   ]
  },
  {
   "cell_type": "code",
   "execution_count": null,
   "metadata": {},
   "outputs": [],
   "source": [
    "# Coreference module; this only works for English. \n",
    "handler = CoreferenceHandler(greedyness=.4)\n",
    "\n",
    "# Load model, model config and tokenizer via Transformers\n",
    "custom_config = AutoConfig.from_pretrained('bert-base-multilingual-cased')\n",
    "custom_config.output_hidden_states=True\n",
    "custom_tokenizer = AutoTokenizer.from_pretrained('bert-base-multilingual-cased')\n",
    "custom_model = AutoModel.from_pretrained('bert-base-multilingual-cased', config=custom_config)"
   ]
  },
  {
   "cell_type": "code",
   "execution_count": 15,
   "metadata": {},
   "outputs": [
    {
     "data": {
      "text/plain": [
       "'567 muertos por Covid-19 en las últimas 24 horas: España supera los 18.000 fallecidos EL MUNDO (Vídeo) En directo. Última hora del coronavirus en España Gráficos. Tras varios días de vaivenes después de abandonar su trayectoria descendente, el recuento de fallecidos en un día volvía a bajar. Hoy, por desgracia, asistimos a un ligero repunte. En todo caso las tendencias que estamos observando son buenas. El incremento de nuevos casos ha sido de un 2%. 26.672 SANITARIOS CONTAGIADOS El director de Alertas y Emergencias ha reconocido que hay ya 26.672 sanitarios contagiados y que se está realizando un estudio en el Centro Nacional de Epidemiología para conocer su evolución. \" Sin expresar abiertamente su discrepancia, Simón sí ha dicho que la decisión de que los niños puedan salir junto a sus padres a dar pequeños paseos tal y como se hace en el resto de países \"es una decisión que está en otro ámbito por mucho que desde el punto de vista técnico o de sanidad podamos hacer recomendaciones\". Por debajo ya de un 2% de crecimiento en los casos se sitúan Castilla-La Mancha (1,9%) , País Vasco (1,8%), La Rioja (1,8%), Comunidad Valenciana (1,6%), Murcia (1,6%), Navarra (1,4%), Aragón (1,3%), Galicia (1,3%), Cataluña (1,3%), Baleares (1,3%) y Cantabria (1%). Porcentualmente, el mayor incremento de fallecidos, sin embargo, corresponde a Canarias, con un alza del 6,3% de sus víctimas por coronavirus, que ascienden ya a 102, seguida de Aragón , donde los fallecidos crecen un 6% hasta sumar ya 492 muertes desde el inicio de la epidemia. Ceuta y Melilla no han visto nuevos fallecimientos y se mantienen con 4 y 2 muertes por coronavirus, respectivamente.'"
      ]
     },
     "execution_count": 15,
     "metadata": {},
     "output_type": "execute_result"
    }
   ],
   "source": [
    "body = \"\"\"567 muertos por Covid-19 en las últimas 24 horas: España supera los 18.000 fallecidos EL MUNDO (Vídeo)\n",
    "En directo. Última hora del coronavirus en España\n",
    "Gráficos. Mapa de la incidencia del coronavirus en España por municipios\n",
    "Mapa. Probabilidad de contagio de Covid-19 por municipios\n",
    "Ligera remontada en la curva. En las últimas 24 horas, España ha sumado 567 muertos por coronavirus, y la cifra de fallecidos se eleva ya a 18.056. El número de contagiados ha aumentado en 3.045 y alcanza los 172.541 desde el inicio de la pandemia.\n",
    "\n",
    "El lunes, la curva volvía a dar un respiro a quienes miran las cifras de muertes por coronavirus con preocupación. Tras varios días de vaivenes después de abandonar su trayectoria descendente, el recuento de fallecidos en un día volvía a bajar. Hoy, por desgracia, asistimos a un ligero repunte.\n",
    "\n",
    "La cifra positiva la ponen los curados: 67.504 pacientes de Covid-19 ya han sido dados de alta.\n",
    "\n",
    "SIMÓN: \"ESTAMOS OBSERVANDO BUENAS TENDENCIAS\"\n",
    "\n",
    "El director del Alertas y Emergencias Sanitarias, Fernando Simón, se ha reincorporado hoy a las ruedas de prensa diarias para valorar la evolución de la epidemia de coronavirus, tras días aislado en su domicilio por haber dado positivo por coronavirus.\n",
    "\n",
    "Según Simón \"está reduciéndose el número de casos, es verdad que esta semana es algo peculiar por los días festivos previos. En todo caso las tendencias que estamos observando son buenas. El incremento de nuevos casos ha sido de un 2%. Lo que a mí me habría gustado que hubiéramos tenido más curados que nuevos casos y no se ha producido todavía, pero los curados son ya un 40% de los casos\".\n",
    "\n",
    "En cuanto a las víctimas mortales, Simón ha detallado que \"seguimos teniendo un número importante de fallecidos, 567 nuevos fallecidos, pero estos datos siguen con la tendencia descendente. Las UCI siguen estando en situación de estrés pero su situación está ya estabilizada. Y la letalidad que observamos es de un 10%, semejante en toda Europa salvo en Alemania que tiene una situación más ventajosa con alrededor de un 2%\".\n",
    "\n",
    "\"LAS PCR SON CLAVE PARA AISLAR A LOS POSITIVOS\"\n",
    "Simón se ha referido a la orden publicada este martes por en el BOE la que se intervienen los laboratorios de diagnóstico públicos y privados para regular la realización de pruebas de coronavirus, dejando la tutela de estos laboratorios bajo el mando de las autonomías e impidiendo la realización de test que no vengan prescritos por médicos y bajo los protocolos establecidos.\n",
    "\n",
    "Según Simón, esta orden se debe a que \"Las PCR son una de las piezas clave para aislar a los positivos. Por eso no podemos permitir que en un periodo de escasez se usen las PCR en grupos de población que no son efectivos y que por otro lado los recursos no estén bajo la tutela de las comunidades autónomas. La orden procura que los resultados de las PCR se conozcan, que no haya abusos y evitar que se hagan PCR cuando la probabilidad de que el resultado positivo sega realmente baja\".\n",
    "\n",
    "En cuanto a las críticas sobre el reparto de mascarillas en el transporte público en lugar de en farmacias, Simón ha dicho desconocer los detalles del sistema de distribución pero ha quitado hierro a las críticas afirmando que \"sobre los detalles que se han mencionado de si la mascarilla se toca por la goma o si va empaquetada en plástico o no creo que mientras no se haga una acción flagrante de falta de higiene en la entrega de la mascarilla, debemos ser un poco sensatos\" en las críticas.\n",
    "\n",
    "26.672 SANITARIOS CONTAGIADOS\n",
    "El director de Alertas y Emergencias ha reconocido que hay ya 26.672 sanitarios contagiados y que se está realizando un estudio en el Centro Nacional de Epidemiología para conocer su evolución. \"Algunos de ellos desgraciadamente han fallecido pero en general la gravedad entre ellos ha sido menor que la del resto de la población y muchos de ellos ya se han curado y reincorporado\" a su trabajo.\n",
    "\n",
    "Un día más, los datos de fallecidos en las residencias han quedado sin hacerse públicos. Simón ha reconocido que la fecha límite para que las autonomías entregaran los datos de las residencias venció la pasada semana. \"pero el análisis es más complejo porque hay muchos más factores que en el resto de grupos. Cuando podamos hacer ese análisis, ofreceremos los datos\".\n",
    "\n",
    "Sin expresar abiertamente su discrepancia, Simón sí ha dicho que la decisión de que los niños puedan salir junto a sus padres a dar pequeños paseos tal y como se hace en el resto de países \"es una decisión que está en otro ámbito por mucho que desde el punto de vista técnico o de sanidad podamos hacer recomendaciones\".\n",
    "\n",
    "Según Simón \"hay algunas cuestiones que a medida que se van generando buenos hábitos en la población se pueden poner sobre la mesa y esa es una medida que hay que valorar y que podría llegar a ser\", pero no depende sólo de las cuestiones sanitarias \"sino también de la capacidad de controlar los abusos que se pudieran dar\".\n",
    "\n",
    "Ante la posibilidad de un desescalado a distinto ritmo en las autonomías que incluyera ésta y otras medidas, Simón sí se ha mostrado más receloso: buena parte del éxito de las medidas adoptadas hasta ahora se debe \"a que se han realizado de forma homogénea\" en todo el territorio, ha dicho.\n",
    "\n",
    "Recién reincorporado tras dos semanas de aislamiento en su domicilio, la cara visible de la epidemia del coronavirus ha reconocido que su enfermedad ha sido leve: \"He tenido un poco de fiebre los primeros días, una tos persistente y sueño constante, pero después de dos meses que llevaba sin dormir tampoco sé si ha sido por el coronavirus. Hay una gran variedad de cuadros clínicos y no puedo dar consejos a quienes están todavía enfermos, pero sí trasladar mi apoyo a la labor de los profesionales y mi solidaridad con todos los pacientes\".\n",
    "\n",
    "LOS CONTAGIOS, POR COMUNIDADES\n",
    "En concreto, los datos de coronavirus publicados este 14 de abril muestran un alza del 1,7% en el número de casos y de un 3,2% en el número de fallecidos.\n",
    "\n",
    "El mayor incremento de casos se registra en Asturias (4,7%) y Castilla y León (4,3%). Por debajo ya de un 2% de crecimiento en los casos se sitúan Castilla-La Mancha (1,9%) , País Vasco (1,8%), La Rioja (1,8%), Comunidad Valenciana (1,6%), Murcia (1,6%), Navarra (1,4%), Aragón (1,3%), Galicia (1,3%), Cataluña (1,3%), Baleares (1,3%) y Cantabria (1%).\n",
    "\n",
    "Por debajo del 1% de incremento de de casos confirmados se sitúan Extremadura (0,98%), Canarias (0,7% de alza de casos) y Andalucía, con sólo cinco nuevos casos y un 0,05% de incremento global.\n",
    "\n",
    "MAYOR CRECIMIENTO DE MUERTES EN CANARIAS\n",
    "En cuanto a la evolución de fallecidos, el mayor número de víctimas mortales en un día se ha dado de nuevo en Madrid, con 145 fallecidos, y en Cataluña. Porcentualmente, el mayor incremento de fallecidos, sin embargo, corresponde a Canarias, con un alza del 6,3% de sus víctimas por coronavirus, que ascienden ya a 102, seguida de Aragón , donde los fallecidos crecen un 6% hasta sumar ya 492 muertes desde el inicio de la epidemia.\n",
    "\n",
    "Tras estas autonomías, Castilla-La Mancha registra un alza todavía del 5,4% en el número de fallecidos, que asciende en su caso ya a 1.714. Con un incremento también del 5% pero datos sensiblemente mucho más bajos, Murcia contabiliza ya 106 muertes. Por debajo del 5% de incremento de fallecidos se sitúa La Rioja, con 234 fallecidos ya (un 4,9% de alza), Asturias, con 156 fallecidos lo que supone un incremento del 4,7%, Navarra con un alza del 4,2% hasta registrar 249 fallecidos y Extremadura, donde las muertes crecen un 4% hasta las 334.\n",
    "\n",
    "3%: LA MEDIA ESPAÑOLA DE ALZA DE LA CURVA\n",
    "En el entorno del crecimiento nacional del 3% en los fallecimientos se sitúan Cataluña (con un alza del 3,6% de las muertes que llegan ya a 3.666), la Comunidad Valenciana, donde los fallecimientos crecen un 3,5% y suman ya 907, y el País Vasco, que registra un incremento de fallecidos del 3,4% hasta 859 muertes.\n",
    "\n",
    "Con crecimientos algo más bajos de la media figuran Castilla y León con un alza del 2,9% de sus fallecidos que llegan ya en cualquier caso a 1.299 muertes. También con cifras más contenidas figuraría Andalucía con un alza del 2,6% de fallecimientos hasta 836. En el caso de Cantabria las muertes han subido un 2,6% en un día y contabilizan ya 120 víctimas desde el inicio de la epidemia.\n",
    "\n",
    "Madrid, que sigue registrando el mayor volumen de víctimas, con 6.568 muertes desde el inicio de la epidemia, se sitúa en crecimientos diarios del 2,3% del número de fallecimientos. Las víctimas crecen también un 2% en Galicia, que suma 290 muertos y menos del 1% en Baleares, que registra 118 víctimas en total. Ceuta y Melilla no han visto nuevos fallecimientos y se mantienen con 4 y 2 muertes por coronavirus, respectivamente.\"\"\".replace(\"\\n\",\" \")\n",
    "model = Summarizer(custom_model=custom_model, custom_tokenizer=custom_tokenizer)\n",
    "model(body)"
   ]
  },
  {
   "cell_type": "code",
   "execution_count": null,
   "metadata": {},
   "outputs": [],
   "source": []
  }
 ],
 "metadata": {
  "kernelspec": {
   "display_name": "Python 3",
   "language": "python",
   "name": "python3"
  },
  "language_info": {
   "codemirror_mode": {
    "name": "ipython",
    "version": 3
   },
   "file_extension": ".py",
   "mimetype": "text/x-python",
   "name": "python",
   "nbconvert_exporter": "python",
   "pygments_lexer": "ipython3",
   "version": "3.7.7"
  }
 },
 "nbformat": 4,
 "nbformat_minor": 4
}
