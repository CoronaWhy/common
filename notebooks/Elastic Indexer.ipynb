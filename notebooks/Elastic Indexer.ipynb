{
 "cells": [
  {
   "cell_type": "code",
   "execution_count": 2,
   "metadata": {},
   "outputs": [],
   "source": [
    "import pandas as pd\n",
    "from elasticsearch import Elasticsearch\n",
    "from elasticsearch import helpers\n",
    "import os\n",
    "\n",
    "def bulk_index(df, index_name): \n",
    "    # This method will process rows of a given dataframe\n",
    "    # into dicts indexable by ES. Those are then indexed.\n",
    "    \n",
    "    es = Elasticsearch()\n",
    "\n",
    "    helpers.bulk(es, doc_generator(df, index_name))\n",
    "    \n",
    "def doc_generator(df, index_name):\n",
    "    # This function creates documents from dataframe rows, and then \n",
    "    # indexes those documents in ElasticSearch\n",
    "    df_iter = df.iterrows()\n",
    "    for index, document in df_iter:\n",
    "        yield {\n",
    "                \"_index\": index_name,\n",
    "                \"article\": document.to_dict(),\n",
    "            }\n",
    "    return True"
   ]
  },
  {
   "cell_type": "code",
   "execution_count": null,
   "metadata": {},
   "outputs": [
    {
     "name": "stdout",
     "output_type": "stream",
     "text": [
      "Sections done.\n"
     ]
    }
   ],
   "source": [
    "df = pd.read_pickle(\"v6-7bySection.pkl\", compression=\"gzip\")\n",
    "bulk_index(df, index_name=\"cordv7sections\")\n",
    "del df \n",
    "print(\"Sections done.\")\n",
    "df = pd.read_pickle(\"v6-7bySentence.pkl\",compression=\"gzip\")\n",
    "bulk_index(df, index_name=\"cord19sentences\")\n",
    "del df\n",
    "print(\"Sentences done\")"
   ]
  }
 ],
 "metadata": {
  "kernelspec": {
   "display_name": "Python 3",
   "language": "python",
   "name": "python3"
  },
  "language_info": {
   "codemirror_mode": {
    "name": "ipython",
    "version": 3
   },
   "file_extension": ".py",
   "mimetype": "text/x-python",
   "name": "python",
   "nbconvert_exporter": "python",
   "pygments_lexer": "ipython3",
   "version": "3.7.6"
  }
 },
 "nbformat": 4,
 "nbformat_minor": 4
}
